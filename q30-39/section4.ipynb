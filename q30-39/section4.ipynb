{
 "cells": [
  {
   "cell_type": "markdown",
   "metadata": {},
   "source": [
    "# 第4章: 形態素解析\n",
    "---\n",
    "夏目漱石の小説『吾輩は猫である』の文章（[neko.txt](http://www.cl.ecei.tohoku.ac.jp/nlp100/data/neko.txt)）をMeCabを使って形態素解析し，その結果をneko.txt.mecabというファイルに保存せよ．このファイルを用いて，以下の問に対応するプログラムを実装せよ．\n",
    "\n",
    "なお，問題37, 38, 39はmatplotlibもしくはGnuplotを用いるとよい．"
   ]
  },
  {
   "cell_type": "markdown",
   "metadata": {},
   "source": [
    "## 30. 形態素解析結果の読み込み\n",
    "\n",
    "形態素解析結果（neko.txt.mecab）を読み込むプログラムを実装せよ．ただし，各形態素は表層形（surface），基本形（base），品詞（pos），品詞細分類1（pos1）をキーとするマッピング型に格納し，1文を形態素（マッピング型）のリストとして表現せよ．第4章の残りの問題では，ここで作ったプログラムを活用せよ．"
   ]
  },
  {
   "cell_type": "code",
   "execution_count": 2,
   "metadata": {
    "collapsed": false
   },
   "outputs": [
    {
     "name": "stdout",
     "output_type": "stream",
     "text": [
      "一\t名詞,数,*,*,*,*,一,イチ,イチ\r\n",
      "EOS\r\n",
      "EOS\r\n",
      "　\t記号,空白,*,*,*,*,　,　,　\r\n",
      "吾輩\t名詞,代名詞,一般,*,*,*,吾輩,ワガハイ,ワガハイ\r\n",
      "は\t助詞,係助詞,*,*,*,*,は,ハ,ワ\r\n",
      "猫\t名詞,一般,*,*,*,*,猫,ネコ,ネコ\r\n",
      "で\t助動詞,*,*,*,特殊・ダ,連用形,だ,デ,デ\r\n",
      "ある\t助動詞,*,*,*,五段・ラ行アル,基本形,ある,アル,アル\r\n",
      "。\t記号,句点,*,*,*,*,。,。,。\r\n"
     ]
    }
   ],
   "source": [
    "!head neko.txt.mecab"
   ]
  },
  {
   "cell_type": "code",
   "execution_count": 60,
   "metadata": {
    "collapsed": false
   },
   "outputs": [
    {
     "name": "stdout",
     "output_type": "stream",
     "text": [
      "Overwriting q30.py\n"
     ]
    }
   ],
   "source": [
    "%%file q30.py\n",
    "import argparse\n",
    "from itertools import groupby\n",
    "from pprint import pprint\n",
    "import sys\n",
    "\n",
    "\n",
    "def main():\n",
    "    parser = argparse.ArgumentParser()\n",
    "    parser.add_argument('number', type=int)\n",
    "    args = parser.parse_args()\n",
    "    for i, sent_lis in enumerate(read_mecab(sys.stdin)):\n",
    "        if i == args.number:\n",
    "            pprint(sent_lis)\n",
    "        elif i > args.number:\n",
    "            break\n",
    "\n",
    "            \n",
    "def read_mecab(fi):\n",
    "    def sent2inf(sent):\n",
    "        sent_lis = []\n",
    "        lappend = sent_lis.append\n",
    "        exceptions = {',', '\"', \"'\", '.'} # 基本形がおかしくなる\n",
    "        for line in sent:\n",
    "            line_dic = {}\n",
    "            surface, right = line.rstrip().split('\\t')\n",
    "            inf = right.split(',')\n",
    "            line_dic['surface'] = surface\n",
    "            line_dic['pos'] = inf[0]\n",
    "            line_dic['pos1'] = inf[1]\n",
    "            if surface in exceptions:\n",
    "                line_dic['base'] = surface\n",
    "            else:\n",
    "                line_dic['base'] = inf[6]\n",
    "            lappend(line_dic)\n",
    "        return sent_lis\n",
    "    \n",
    "    \n",
    "    for is_eos, sentence in groupby(fi, lambda s: s.startswith('EOS')):\n",
    "        if not is_eos:\n",
    "            yield sent2inf(sentence)\n",
    "\n",
    "            \n",
    "if __name__ == '__main__':\n",
    "    main()\n",
    "\n",
    "# ,の基本形は\"\n",
    "# \"の基本形は*\n",
    "# .の基本形も*\n",
    "# *の基本形も*\n",
    "# 'の基本形は'\"'"
   ]
  },
  {
   "cell_type": "code",
   "execution_count": 61,
   "metadata": {
    "collapsed": false
   },
   "outputs": [
    {
     "name": "stdout",
     "output_type": "stream",
     "text": [
      "[{'base': '\\u3000', 'pos': '記号', 'pos1': '空白', 'surface': '\\u3000'},\r\n",
      " {'base': '吾輩', 'pos': '名詞', 'pos1': '代名詞', 'surface': '吾輩'},\r\n",
      " {'base': 'は', 'pos': '助詞', 'pos1': '係助詞', 'surface': 'は'},\r\n",
      " {'base': '猫', 'pos': '名詞', 'pos1': '一般', 'surface': '猫'},\r\n",
      " {'base': 'だ', 'pos': '助動詞', 'pos1': '*', 'surface': 'で'},\r\n",
      " {'base': 'ある', 'pos': '助動詞', 'pos1': '*', 'surface': 'ある'},\r\n",
      " {'base': '。', 'pos': '記号', 'pos1': '句点', 'surface': '。'}]\r\n"
     ]
    }
   ],
   "source": [
    "!python q30.py 1 < neko.txt.mecab"
   ]
  },
  {
   "cell_type": "code",
   "execution_count": 62,
   "metadata": {
    "collapsed": false
   },
   "outputs": [
    {
     "name": "stdout",
     "output_type": "stream",
     "text": [
      "[{'base': '吾輩', 'pos': '名詞', 'pos1': '代名詞', 'surface': '吾輩'},\r\n",
      " {'base': 'は', 'pos': '助詞', 'pos1': '係助詞', 'surface': 'は'},\r\n",
      " {'base': ',', 'pos': '名詞', 'pos1': 'サ変接続', 'surface': ','},\r\n",
      " {'base': '猫', 'pos': '名詞', 'pos1': '一般', 'surface': '猫'},\r\n",
      " {'base': 'だ', 'pos': '助動詞', 'pos1': '*', 'surface': 'だ'},\r\n",
      " {'base': '.', 'pos': '名詞', 'pos1': 'サ変接続', 'surface': '.'}]\r\n"
     ]
    }
   ],
   "source": [
    "!echo 吾輩は,猫だ. | mecab | python q30.py 0"
   ]
  },
  {
   "cell_type": "markdown",
   "metadata": {},
   "source": [
    "### Pandas"
   ]
  },
  {
   "cell_type": "code",
   "execution_count": 83,
   "metadata": {
    "collapsed": false
   },
   "outputs": [
    {
     "data": {
      "text/html": [
       "<div>\n",
       "<table border=\"1\" class=\"dataframe\">\n",
       "  <thead>\n",
       "    <tr style=\"text-align: right;\">\n",
       "      <th></th>\n",
       "      <th>surface</th>\n",
       "      <th>pos</th>\n",
       "      <th>pos1</th>\n",
       "      <th>base</th>\n",
       "    </tr>\n",
       "  </thead>\n",
       "  <tbody>\n",
       "    <tr>\n",
       "      <th>0</th>\n",
       "      <td>一</td>\n",
       "      <td>名詞</td>\n",
       "      <td>数</td>\n",
       "      <td>一</td>\n",
       "    </tr>\n",
       "    <tr>\n",
       "      <th>3</th>\n",
       "      <td></td>\n",
       "      <td>記号</td>\n",
       "      <td>空白</td>\n",
       "      <td></td>\n",
       "    </tr>\n",
       "    <tr>\n",
       "      <th>4</th>\n",
       "      <td>吾輩</td>\n",
       "      <td>名詞</td>\n",
       "      <td>代名詞</td>\n",
       "      <td>吾輩</td>\n",
       "    </tr>\n",
       "    <tr>\n",
       "      <th>5</th>\n",
       "      <td>は</td>\n",
       "      <td>助詞</td>\n",
       "      <td>係助詞</td>\n",
       "      <td>は</td>\n",
       "    </tr>\n",
       "    <tr>\n",
       "      <th>6</th>\n",
       "      <td>猫</td>\n",
       "      <td>名詞</td>\n",
       "      <td>一般</td>\n",
       "      <td>猫</td>\n",
       "    </tr>\n",
       "  </tbody>\n",
       "</table>\n",
       "</div>"
      ],
      "text/plain": [
       "  surface pos pos1 base\n",
       "0       一  名詞    数    一\n",
       "3       　  記号   空白    　\n",
       "4      吾輩  名詞  代名詞   吾輩\n",
       "5       は  助詞  係助詞    は\n",
       "6       猫  名詞   一般    猫"
      ]
     },
     "execution_count": 83,
     "metadata": {},
     "output_type": "execute_result"
    }
   ],
   "source": [
    "import pandas as pd\n",
    "df = pd.read_table('neko.txt.mecab', header=None,\n",
    "                 names=['surface', 'info'],\n",
    "                 na_values=['EOS']).dropna()\n",
    "sp = df['info'].str.split(',', expand=True).loc[:, [0, 1, 6]]\n",
    "sp.columns = ['pos', 'pos1', 'base']\n",
    "df = pd.concat([df, sp], axis=1)\n",
    "del df['info']\n",
    "df.head()"
   ]
  },
  {
   "cell_type": "markdown",
   "metadata": {
    "collapsed": true
   },
   "source": [
    "## 31. 動詞\n",
    "動詞の表層形をすべて抽出せよ．"
   ]
  },
  {
   "cell_type": "code",
   "execution_count": 67,
   "metadata": {
    "collapsed": false
   },
   "outputs": [
    {
     "name": "stdout",
     "output_type": "stream",
     "text": [
      "Overwriting q31.py\n"
     ]
    }
   ],
   "source": [
    "%%file q31.py\n",
    "import sys\n",
    "\n",
    "from q30 import read_mecab\n",
    "\n",
    "\n",
    "def main():\n",
    "    for i, sent_lis in enumerate(read_mecab(sys.stdin)):\n",
    "        if i > 10:\n",
    "            break\n",
    "        \n",
    "        for word in sent_lis:\n",
    "            if word['pos'] == '動詞':\n",
    "                print(word['surface'])\n",
    "\n",
    "                \n",
    "if __name__ == '__main__':\n",
    "    main()\n"
   ]
  },
  {
   "cell_type": "code",
   "execution_count": 68,
   "metadata": {
    "collapsed": false
   },
   "outputs": [
    {
     "name": "stdout",
     "output_type": "stream",
     "text": [
      "生れ\r\n",
      "つか\r\n",
      "し\r\n",
      "泣い\r\n",
      "し\r\n",
      "いる\r\n",
      "始め\r\n",
      "見\r\n",
      "聞く\r\n",
      "捕え\r\n",
      "煮\r\n",
      "食う\r\n",
      "思わ\r\n",
      "載せ\r\n",
      "られ\r\n",
      "持ち上げ\r\n",
      "られ\r\n",
      "し\r\n",
      "あっ\r\n",
      "落ちつい\r\n",
      "見\r\n",
      "見\r\n"
     ]
    }
   ],
   "source": [
    "!python q31.py < neko.txt.mecab"
   ]
  },
  {
   "cell_type": "markdown",
   "metadata": {},
   "source": [
    "### Pandas"
   ]
  },
  {
   "cell_type": "code",
   "execution_count": 6,
   "metadata": {
    "collapsed": false,
    "scrolled": true
   },
   "outputs": [
    {
     "data": {
      "text/plain": [
       "21    生れ\n",
       "27    つか\n",
       "35     し\n",
       "40    泣い\n",
       "46     し\n",
       "Name: surface, dtype: object"
      ]
     },
     "execution_count": 6,
     "metadata": {},
     "output_type": "execute_result"
    }
   ],
   "source": [
    "df[df.pos == '動詞'].surface.head()"
   ]
  },
  {
   "cell_type": "markdown",
   "metadata": {},
   "source": [
    "## 32. 動詞の原形\n",
    "動詞の原形をすべて抽出せよ．"
   ]
  },
  {
   "cell_type": "code",
   "execution_count": 69,
   "metadata": {
    "collapsed": false
   },
   "outputs": [
    {
     "name": "stdout",
     "output_type": "stream",
     "text": [
      "Overwriting q32.py\n"
     ]
    }
   ],
   "source": [
    "%%file q32.py\n",
    "import sys\n",
    "\n",
    "from q30 import read_mecab\n",
    "\n",
    "\n",
    "def main():\n",
    "    for i, sent_lis in enumerate(read_mecab(sys.stdin)):\n",
    "        if i > 10:\n",
    "            break\n",
    "        \n",
    "        for word in sent_lis:\n",
    "            if word['pos'] == '動詞':\n",
    "                print(word['base'])\n",
    "\n",
    "                \n",
    "if __name__ == '__main__':\n",
    "    main()\n"
   ]
  },
  {
   "cell_type": "code",
   "execution_count": 70,
   "metadata": {
    "collapsed": false
   },
   "outputs": [
    {
     "name": "stdout",
     "output_type": "stream",
     "text": [
      "生れる\r\n",
      "つく\r\n",
      "する\r\n",
      "泣く\r\n",
      "する\r\n",
      "いる\r\n",
      "始める\r\n",
      "見る\r\n",
      "聞く\r\n",
      "捕える\r\n",
      "煮る\r\n",
      "食う\r\n",
      "思う\r\n",
      "載せる\r\n",
      "られる\r\n",
      "持ち上げる\r\n",
      "られる\r\n",
      "する\r\n",
      "ある\r\n",
      "落ちつく\r\n",
      "見る\r\n",
      "見る\r\n"
     ]
    }
   ],
   "source": [
    "!python q32.py < neko.txt.mecab"
   ]
  },
  {
   "cell_type": "markdown",
   "metadata": {},
   "source": [
    "### Pandas"
   ]
  },
  {
   "cell_type": "code",
   "execution_count": 8,
   "metadata": {
    "collapsed": false,
    "scrolled": true
   },
   "outputs": [
    {
     "data": {
      "text/plain": [
       "21    生れる\n",
       "27     つく\n",
       "35     する\n",
       "40     泣く\n",
       "46     する\n",
       "Name: base, dtype: object"
      ]
     },
     "execution_count": 8,
     "metadata": {},
     "output_type": "execute_result"
    }
   ],
   "source": [
    "df[df.pos == '動詞'].base.head()"
   ]
  },
  {
   "cell_type": "markdown",
   "metadata": {},
   "source": [
    "## 33. サ変名詞\n",
    "サ変接続の名詞をすべて抽出せよ．"
   ]
  },
  {
   "cell_type": "code",
   "execution_count": 74,
   "metadata": {
    "collapsed": false
   },
   "outputs": [
    {
     "name": "stdout",
     "output_type": "stream",
     "text": [
      "Overwriting q33.py\n"
     ]
    }
   ],
   "source": [
    "%%file q33.py\n",
    "import sys\n",
    "\n",
    "from q30 import read_mecab\n",
    "\n",
    "\n",
    "def main():\n",
    "    for i, sent_lis in enumerate(read_mecab(sys.stdin)):\n",
    "        if i > 20:\n",
    "            break\n",
    "        \n",
    "        for word in sent_lis:\n",
    "            if word['pos1'] == 'サ変接続' and word['pos'] == '名詞':\n",
    "                print(word['base'])\n",
    "\n",
    "                \n",
    "if __name__ == '__main__':\n",
    "    main()\n"
   ]
  },
  {
   "cell_type": "code",
   "execution_count": 75,
   "metadata": {
    "collapsed": false
   },
   "outputs": [
    {
     "name": "stdout",
     "output_type": "stream",
     "text": [
      "見当\r\n",
      "記憶\r\n",
      "話\r\n",
      "装飾\r\n",
      "突起\r\n",
      "運転\r\n"
     ]
    }
   ],
   "source": [
    "!python q33.py < neko.txt.mecab"
   ]
  },
  {
   "cell_type": "markdown",
   "metadata": {},
   "source": [
    "### Pandas"
   ]
  },
  {
   "cell_type": "code",
   "execution_count": 10,
   "metadata": {
    "collapsed": false,
    "scrolled": true
   },
   "outputs": [
    {
     "data": {
      "text/plain": [
       "25     見当\n",
       "45     記憶\n",
       "102     話\n",
       "202    装飾\n",
       "250    突起\n",
       "Name: surface, dtype: object"
      ]
     },
     "execution_count": 10,
     "metadata": {},
     "output_type": "execute_result"
    }
   ],
   "source": [
    "df.query('pos1 == \"サ変接続\" and pos == \"名詞\"').surface.head()"
   ]
  },
  {
   "cell_type": "markdown",
   "metadata": {},
   "source": [
    "## 34. 「AのB」\n",
    "2つの名詞が「の」で連結されている名詞句を抽出せよ．"
   ]
  },
  {
   "cell_type": "code",
   "execution_count": 76,
   "metadata": {
    "collapsed": false
   },
   "outputs": [
    {
     "name": "stdout",
     "output_type": "stream",
     "text": [
      "Overwriting q34.py\n"
     ]
    }
   ],
   "source": [
    "%%file q34.py\n",
    "import sys\n",
    "\n",
    "from q30 import read_mecab\n",
    "\n",
    "\n",
    "def main():\n",
    "    for sent_id, sent_lis in enumerate(read_mecab(sys.stdin)):\n",
    "        if sent_id > 20:\n",
    "            break\n",
    "        \n",
    "        for i in range(len(sent_lis) - 2):\n",
    "            if (sent_lis[i+1]['base'] == 'の' and sent_lis[i]['pos'] == '名詞'\n",
    "                and sent_lis[i+2]['pos'] == '名詞'):\n",
    "                print(''.join([sent_lis[i+x]['surface'] for x in range(3)]))\n",
    "\n",
    "                \n",
    "if __name__ == '__main__':\n",
    "    main()\n"
   ]
  },
  {
   "cell_type": "code",
   "execution_count": 77,
   "metadata": {
    "collapsed": false
   },
   "outputs": [
    {
     "name": "stdout",
     "output_type": "stream",
     "text": [
      "彼の掌\r\n",
      "掌の上\r\n",
      "書生の顔\r\n",
      "はずの顔\r\n",
      "顔の真中\r\n",
      "穴の中\r\n",
      "書生の掌\r\n",
      "掌の裏\r\n"
     ]
    }
   ],
   "source": [
    "!python q34.py < neko.txt.mecab"
   ]
  },
  {
   "cell_type": "markdown",
   "metadata": {},
   "source": [
    "## 35. 名詞の連接\n",
    "名詞の連接（連続して出現する名詞）を最長一致で抽出せよ．"
   ]
  },
  {
   "cell_type": "code",
   "execution_count": 78,
   "metadata": {
    "collapsed": false
   },
   "outputs": [
    {
     "name": "stdout",
     "output_type": "stream",
     "text": [
      "Overwriting q35.py\n"
     ]
    }
   ],
   "source": [
    "%%file q35.py\n",
    "import sys\n",
    "from itertools import groupby\n",
    "\n",
    "from q30 import read_mecab\n",
    "\n",
    "\n",
    "def main():\n",
    "    for i, sent_lis in enumerate(read_mecab(sys.stdin)):\n",
    "        if i > 20:\n",
    "            break\n",
    "        \n",
    "        for key, group in groupby(sent_lis, lambda word: word['pos']):\n",
    "            if key == '名詞':\n",
    "                words = [word['surface'] for word in group]\n",
    "                if len(words) > 1:\n",
    "                    print(''.join(words))\n",
    "\n",
    "                \n",
    "if __name__ == '__main__':\n",
    "    main()\n"
   ]
  },
  {
   "cell_type": "code",
   "execution_count": 84,
   "metadata": {
    "collapsed": false
   },
   "outputs": [
    {
     "name": "stdout",
     "output_type": "stream",
     "text": [
      "人間中\r\n",
      "一番獰悪\r\n",
      "時妙\r\n",
      "一毛\r\n",
      "その後猫\r\n",
      "一度\r\n",
      "ぷうぷうと煙\r\n"
     ]
    }
   ],
   "source": [
    "!python q35.py < neko.txt.mecab"
   ]
  },
  {
   "cell_type": "markdown",
   "metadata": {},
   "source": [
    "### Pandas"
   ]
  },
  {
   "cell_type": "code",
   "execution_count": 87,
   "metadata": {
    "collapsed": false
   },
   "outputs": [
    {
     "name": "stdout",
     "output_type": "stream",
     "text": [
      "人間中\n",
      "一番獰悪\n",
      "時妙\n",
      "一毛\n",
      "その後猫\n",
      "一度\n",
      "ぷうぷうと煙\n"
     ]
    }
   ],
   "source": [
    "from itertools import groupby\n",
    "for key, group in groupby(df.head(300).iterrows(), lambda x: x[1].pos):\n",
    "    seq = list(group)\n",
    "    if key == '名詞' and len(seq) > 1:\n",
    "        print(''.join([s.surface for _, s in seq]))"
   ]
  },
  {
   "cell_type": "markdown",
   "metadata": {},
   "source": [
    "## 36. 単語の出現頻度\n",
    "文章中に出現する単語とその出現頻度を求め，出現頻度の高い順に並べよ．"
   ]
  },
  {
   "cell_type": "code",
   "execution_count": 45,
   "metadata": {
    "collapsed": false
   },
   "outputs": [
    {
     "name": "stdout",
     "output_type": "stream",
     "text": [
      "Overwriting q36.py\n"
     ]
    }
   ],
   "source": [
    "%%file q36.py\n",
    "import sys\n",
    "from collections import Counter\n",
    "from pprint import pprint\n",
    "\n",
    "from q30 import read_mecab\n",
    "\n",
    "\n",
    "def get_freq():\n",
    "    word_freq = Counter(word['surface'] for sent_lis in read_mecab(sys.stdin) \n",
    "                            for word in sent_lis)\n",
    "    return word_freq.most_common(10)\n",
    "\n",
    "\n",
    "if __name__ == '__main__':\n",
    "    pprint(get_freq())\n"
   ]
  },
  {
   "cell_type": "code",
   "execution_count": 46,
   "metadata": {
    "collapsed": false
   },
   "outputs": [
    {
     "name": "stdout",
     "output_type": "stream",
     "text": [
      "[('の', 9194),\r\n",
      " ('。', 7486),\r\n",
      " ('て', 6868),\r\n",
      " ('、', 6772),\r\n",
      " ('は', 6420),\r\n",
      " ('に', 6243),\r\n",
      " ('を', 6071),\r\n",
      " ('と', 5508),\r\n",
      " ('が', 5337),\r\n",
      " ('た', 3988)]\r\n"
     ]
    }
   ],
   "source": [
    "!python q36.py < neko.txt.mecab"
   ]
  },
  {
   "cell_type": "markdown",
   "metadata": {},
   "source": [
    "### Pandas"
   ]
  },
  {
   "cell_type": "code",
   "execution_count": 51,
   "metadata": {
    "collapsed": false,
    "scrolled": true
   },
   "outputs": [
    {
     "data": {
      "text/html": [
       "<div>\n",
       "<table border=\"1\" class=\"dataframe\">\n",
       "  <thead>\n",
       "    <tr style=\"text-align: right;\">\n",
       "      <th></th>\n",
       "      <th>frequency</th>\n",
       "    </tr>\n",
       "  </thead>\n",
       "  <tbody>\n",
       "    <tr>\n",
       "      <th>の</th>\n",
       "      <td>9194</td>\n",
       "    </tr>\n",
       "    <tr>\n",
       "      <th>。</th>\n",
       "      <td>7486</td>\n",
       "    </tr>\n",
       "    <tr>\n",
       "      <th>て</th>\n",
       "      <td>6848</td>\n",
       "    </tr>\n",
       "    <tr>\n",
       "      <th>、</th>\n",
       "      <td>6772</td>\n",
       "    </tr>\n",
       "    <tr>\n",
       "      <th>は</th>\n",
       "      <td>6420</td>\n",
       "    </tr>\n",
       "  </tbody>\n",
       "</table>\n",
       "</div>"
      ],
      "text/plain": [
       "   frequency\n",
       "の       9194\n",
       "。       7486\n",
       "て       6848\n",
       "、       6772\n",
       "は       6420"
      ]
     },
     "execution_count": 51,
     "metadata": {},
     "output_type": "execute_result"
    }
   ],
   "source": [
    "vc = df.base.value_counts()\n",
    "vcdf = pd.DataFrame(vc)\n",
    "vcdf.columns = ['frequency']\n",
    "vcdf.head()"
   ]
  },
  {
   "cell_type": "markdown",
   "metadata": {},
   "source": [
    "## 37. 頻度上位10語\n",
    "出現頻度が高い10語とその出現頻度をグラフ（例えば棒グラフなど）で表示せよ．"
   ]
  },
  {
   "cell_type": "code",
   "execution_count": 1,
   "metadata": {
    "collapsed": false
   },
   "outputs": [],
   "source": [
    "%matplotlib inline\n",
    "import matplotlib\n",
    "import seaborn as sns\n",
    "matplotlib.style.use('ggplot')"
   ]
  },
  {
   "cell_type": "code",
   "execution_count": 62,
   "metadata": {
    "collapsed": false
   },
   "outputs": [
    {
     "data": {
      "text/plain": [
       "<matplotlib.axes._subplots.AxesSubplot at 0x1282b8080>"
      ]
     },
     "execution_count": 62,
     "metadata": {},
     "output_type": "execute_result"
    },
    {
     "data": {
      "image/png": "[encoded data removed]",
      "text/plain": [
       "<matplotlib.figure.Figure at 0x12850f780>"
      ]
     },
     "metadata": {
      "image/png": {
       "height": 524,
       "width": 792
      }
     },
     "output_type": "display_data"
    }
   ],
   "source": [
    "vcdf.head(10).plot.bar(figsize=(12, 8))"
   ]
  },
  {
   "cell_type": "code",
   "execution_count": 4,
   "metadata": {
    "collapsed": false
   },
   "outputs": [
    {
     "data": {
      "text/plain": [
       "<matplotlib.text.Text at 0x112531c50>"
      ]
     },
     "execution_count": 4,
     "metadata": {},
     "output_type": "execute_result"
    },
    {
     "data": {
      "image/png": "[encoded data removed]",
      "text/plain": [
       "<matplotlib.figure.Figure at 0x10e8e5f60>"
      ]
     },
     "metadata": {
      "image/png": {
       "height": 407,
       "width": 544
      }
     },
     "output_type": "display_data"
    }
   ],
   "source": [
    "import numpy as np\n",
    "from q30 import read_mecab\n",
    "import matplotlib.pyplot as plt\n",
    "from collections import Counter\n",
    "\n",
    "word = []\n",
    "count = []\n",
    "word_freq = Counter(word['base'] for sent_lis in read_mecab(open('neko.txt.mecab')) \n",
    "                            for word in sent_lis)\n",
    "for w, c in word_freq.most_common(10):\n",
    "    word.append(w)\n",
    "    count.append(c)\n",
    "\n",
    "len_word = np.arange(len(word))\n",
    "plt.barh(len_word, count, align='center')\n",
    "plt.yticks(len_word, word)\n",
    "plt.xlabel('frequency')\n",
    "plt.ylabel('word')\n",
    "plt.title('37')"
   ]
  },
  {
   "cell_type": "markdown",
   "metadata": {
    "collapsed": false
   },
   "source": [
    "- jupyter上だと日本語ラベルが表示されない。 \n",
    "- jupyterを使わないとこんな感じ"
   ]
  },
  {
   "cell_type": "markdown",
   "metadata": {
    "collapsed": false
   },
   "source": [
    "![37](http://www.cl.ecei.tohoku.ac.jp/~asano/nlp100/figure_1.png)"
   ]
  },
  {
   "cell_type": "markdown",
   "metadata": {
    "collapsed": true
   },
   "source": [
    "## 38. ヒストグラム\n",
    "単語の出現頻度のヒストグラム（横軸に出現頻度，縦軸に出現頻度をとる単語の種類数を棒グラフで表したもの）を描け．"
   ]
  },
  {
   "cell_type": "code",
   "execution_count": 63,
   "metadata": {
    "collapsed": false
   },
   "outputs": [
    {
     "data": {
      "text/plain": [
       "<matplotlib.axes._subplots.AxesSubplot at 0x1282508d0>"
      ]
     },
     "execution_count": 63,
     "metadata": {},
     "output_type": "execute_result"
    },
    {
     "data": {
      "image/png": "[encoded data removed]",
      "text/plain": [
       "<matplotlib.figure.Figure at 0x127da9dd8>"
      ]
     },
     "metadata": {
      "image/png": {
       "height": 393,
       "width": 547
      }
     },
     "output_type": "display_data"
    }
   ],
   "source": [
    "hist = sns.distplot(vcdf.frequency,kde=False, bins=500)\n",
    "hist.set(ylim=(0, 500))\n",
    "hist.set(xlim=(0, 500))\n",
    "hist"
   ]
  },
  {
   "cell_type": "code",
   "execution_count": 5,
   "metadata": {
    "collapsed": false
   },
   "outputs": [
    {
     "data": {
      "text/plain": [
       "(1, 30)"
      ]
     },
     "execution_count": 5,
     "metadata": {},
     "output_type": "execute_result"
    },
    {
     "data": {
      "image/png": "[encoded data removed]",
      "text/plain": [
       "<matplotlib.figure.Figure at 0x10e7e9828>"
      ]
     },
     "metadata": {
      "image/png": {
       "height": 407,
       "width": 567
      }
     },
     "output_type": "display_data"
    }
   ],
   "source": [
    "word_freq = Counter(word['base'] for sent_lis in read_mecab(open('neko.txt.mecab')) \n",
    "                        for word in sent_lis)\n",
    "data = Counter(count for count in word_freq.values())\n",
    "\n",
    "x = []\n",
    "y = []\n",
    "for w, c in Counter(data).items():\n",
    "    x.append(w)\n",
    "    y.append(c)\n",
    "\n",
    "plt.bar(x, y)\n",
    "plt.title(\"38\")\n",
    "plt.xlabel(\"frequency\")\n",
    "plt.ylabel(\"number of the words\")\n",
    "plt.xlim(1, 30)"
   ]
  },
  {
   "cell_type": "markdown",
   "metadata": {},
   "source": [
    "## 39. Zipfの法則\n",
    "単語の出現頻度順位を横軸，その出現頻度を縦軸として，両対数グラフをプロットせよ．"
   ]
  },
  {
   "cell_type": "code",
   "execution_count": 64,
   "metadata": {
    "collapsed": false
   },
   "outputs": [
    {
     "data": {
      "text/plain": [
       "<matplotlib.axes._subplots.AxesSubplot at 0x128c5da90>"
      ]
     },
     "execution_count": 64,
     "metadata": {},
     "output_type": "execute_result"
    },
    {
     "data": {
      "image/png": "[encoded data removed]",
      "text/plain": [
       "<matplotlib.figure.Figure at 0x128c32e48>"
      ]
     },
     "metadata": {
      "image/png": {
       "height": 529,
       "width": 787
      }
     },
     "output_type": "display_data"
    }
   ],
   "source": [
    "s = pd.Series(vc.values)\n",
    "s.plot(loglog=True, figsize=(12, 8))"
   ]
  },
  {
   "cell_type": "code",
   "execution_count": 6,
   "metadata": {
    "collapsed": false
   },
   "outputs": [
    {
     "data": {
      "text/plain": [
       "(1, 10000)"
      ]
     },
     "execution_count": 6,
     "metadata": {},
     "output_type": "execute_result"
    },
    {
     "data": {
      "image/png": "[encoded data removed]",
      "text/plain": [
       "<matplotlib.figure.Figure at 0x11322db00>"
      ]
     },
     "metadata": {
      "image/png": {
       "height": 409,
       "width": 556
      }
     },
     "output_type": "display_data"
    }
   ],
   "source": [
    "count = [c for _, c in word_freq.most_common()]\n",
    "plt.scatter(np.arange(1, len(count)+1), count)\n",
    "plt.yscale(\"log\")\n",
    "plt.xscale(\"log\")\n",
    "plt.title(\"39\")\n",
    "plt.xlabel(\"log(rank)\")\n",
    "plt.ylabel(\"log(frequency)\")\n",
    "plt.xlim(1, 12000)\n",
    "plt.ylim(1, 10000)"
   ]
  },
  {
   "cell_type": "code",
   "execution_count": null,
   "metadata": {
    "collapsed": true
   },
   "outputs": [],
   "source": []
  }
 ],
 "metadata": {
  "anaconda-cloud": {},
  "kernelspec": {
   "display_name": "Python [default]",
   "language": "python",
   "name": "python3"
  },
  "language_info": {
   "codemirror_mode": {
    "name": "ipython",
    "version": 3
   },
   "file_extension": ".py",
   "mimetype": "text/x-python",
   "name": "python",
   "nbconvert_exporter": "python",
   "pygments_lexer": "ipython3",
   "version": "3.5.2"
  }
 },
 "nbformat": 4,
 "nbformat_minor": 2
}
