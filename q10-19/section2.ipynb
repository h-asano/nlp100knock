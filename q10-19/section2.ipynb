{
 "cells": [
  {
   "cell_type": "markdown",
   "metadata": {},
   "source": [
    "# 第2章: UNIXコマンドの基礎\n",
    "[hightemp.txt](http://www.cl.ecei.tohoku.ac.jp/nlp100/data/hightemp.txt)は，日本の最高気温の記録を「都道府県」「地点」「℃」「日」のタブ区切り形式で格納したファイルである．以下の処理を行うプログラムを作成し，hightemp.txtを入力ファイルとして実行せよ．さらに，同様の処理をUNIXコマンドでも実行し，プログラムの実行結果を確認せよ．"
   ]
  },
  {
   "cell_type": "code",
   "execution_count": 1,
   "metadata": {
    "collapsed": false
   },
   "outputs": [
    {
     "name": "stdout",
     "output_type": "stream",
     "text": [
      "  % Total    % Received % Xferd  Average Speed   Time    Time     Time  Current\n",
      "                                 Dload  Upload   Total   Spent    Left  Speed\n",
      "100   813  100   813    0     0   1364      0 --:--:-- --:--:-- --:--:--  1364\n"
     ]
    }
   ],
   "source": [
    "!curl -O http://www.cl.ecei.tohoku.ac.jp/nlp100/data/hightemp.txt"
   ]
  },
  {
   "cell_type": "markdown",
   "metadata": {},
   "source": [
    "## 10. 行数のカウント\n",
    "行数をカウントせよ．確認にはwcコマンドを用いよ．"
   ]
  },
  {
   "cell_type": "code",
   "execution_count": 1,
   "metadata": {
    "collapsed": false
   },
   "outputs": [
    {
     "name": "stdout",
     "output_type": "stream",
     "text": [
      "Overwriting q10.py\n"
     ]
    }
   ],
   "source": [
    "%%file q10.py\n",
    "import sys\n",
    "\n",
    "print(sum(1 for l in sys.stdin))"
   ]
  },
  {
   "cell_type": "code",
   "execution_count": 2,
   "metadata": {
    "collapsed": false
   },
   "outputs": [
    {
     "name": "stdout",
     "output_type": "stream",
     "text": [
      "24\r\n"
     ]
    }
   ],
   "source": [
    "!python q10.py < hightemp.txt"
   ]
  },
  {
   "cell_type": "code",
   "execution_count": 3,
   "metadata": {
    "collapsed": false
   },
   "outputs": [
    {
     "name": "stdout",
     "output_type": "stream",
     "text": [
      "24 hightemp.txt\r\n"
     ]
    }
   ],
   "source": [
    "!wc -l hightemp.txt"
   ]
  },
  {
   "cell_type": "markdown",
   "metadata": {},
   "source": [
    "## 11. タブをスペースに置換\n",
    "タブ1文字につきスペース1文字に置換せよ．確認にはsedコマンド，trコマンド，もしくはexpandコマンドを用いよ．"
   ]
  },
  {
   "cell_type": "code",
   "execution_count": 4,
   "metadata": {
    "collapsed": false
   },
   "outputs": [
    {
     "name": "stdout",
     "output_type": "stream",
     "text": [
      "Overwriting q11.py\n"
     ]
    }
   ],
   "source": [
    "%%file q11.py\n",
    "import sys\n",
    "\n",
    "for line in sys.stdin:\n",
    "    print(line.expandtabs(1), end='')"
   ]
  },
  {
   "cell_type": "code",
   "execution_count": 5,
   "metadata": {
    "collapsed": false
   },
   "outputs": [
    {
     "name": "stdout",
     "output_type": "stream",
     "text": [
      "高知県 江川崎 41 2013-08-12\r\n",
      "埼玉県 熊谷 40.9 2007-08-16\r\n",
      "岐阜県 多治見 40.9 2007-08-16\r\n",
      "山形県 山形 40.8 1933-07-25\r\n",
      "山梨県 甲府 40.7 2013-08-10\r\n",
      "和歌山県 かつらぎ 40.6 1994-08-08\r\n",
      "静岡県 天竜 40.6 1994-08-04\r\n",
      "山梨県 勝沼 40.5 2013-08-10\r\n",
      "埼玉県 越谷 40.4 2007-08-16\r\n",
      "群馬県 館林 40.3 2007-08-16\r\n"
     ]
    }
   ],
   "source": [
    "!python q11.py < hightemp.txt | head"
   ]
  },
  {
   "cell_type": "code",
   "execution_count": 6,
   "metadata": {
    "collapsed": false
   },
   "outputs": [
    {
     "name": "stdout",
     "output_type": "stream",
     "text": [
      "高知県 江川崎 41 2013-08-12\r\n",
      "埼玉県 熊谷 40.9 2007-08-16\r\n",
      "岐阜県 多治見 40.9 2007-08-16\r\n",
      "山形県 山形 40.8 1933-07-25\r\n",
      "山梨県 甲府 40.7 2013-08-10\r\n",
      "和歌山県 かつらぎ 40.6 1994-08-08\r\n",
      "静岡県 天竜 40.6 1994-08-04\r\n",
      "山梨県 勝沼 40.5 2013-08-10\r\n",
      "埼玉県 越谷 40.4 2007-08-16\r\n",
      "群馬県 館林 40.3 2007-08-16\r\n"
     ]
    }
   ],
   "source": [
    "!tr '\\t' ' ' < hightemp.txt | head"
   ]
  },
  {
   "cell_type": "markdown",
   "metadata": {},
   "source": [
    "## 12. 1列目をcol1.txtに，2列目をcol2.txtに保存\n",
    "各行の1列目だけを抜き出したものをcol1.txtに，2列目だけを抜き出したものをcol2.txtとしてファイルに保存せよ．確認にはcutコマンドを用いよ．"
   ]
  },
  {
   "cell_type": "code",
   "execution_count": 7,
   "metadata": {
    "collapsed": false
   },
   "outputs": [
    {
     "name": "stdout",
     "output_type": "stream",
     "text": [
      "Overwriting q12.py\n"
     ]
    }
   ],
   "source": [
    "%%file q12.py\n",
    "import sys\n",
    "\n",
    "with open('col1.txt', 'w') as col1,\\\n",
    "     open('col2.txt', 'w') as col2:\n",
    "    for line in sys.stdin:\n",
    "        cols = line.split('\\t')\n",
    "        col1.write(cols[0] + '\\n')\n",
    "        col2.write(cols[1] + '\\n')"
   ]
  },
  {
   "cell_type": "code",
   "execution_count": 8,
   "metadata": {
    "collapsed": false
   },
   "outputs": [],
   "source": [
    "!python q12.py < hightemp.txt"
   ]
  },
  {
   "cell_type": "code",
   "execution_count": 9,
   "metadata": {
    "collapsed": false
   },
   "outputs": [
    {
     "name": "stdout",
     "output_type": "stream",
     "text": [
      "江川崎\r\n",
      "熊谷\r\n",
      "多治見\r\n",
      "山形\r\n",
      "甲府\r\n"
     ]
    }
   ],
   "source": [
    "!head -n5 col2.txt"
   ]
  },
  {
   "cell_type": "code",
   "execution_count": 10,
   "metadata": {
    "collapsed": true
   },
   "outputs": [],
   "source": [
    "!cut -f1 hightemp.txt > col1_cut.txt && cut -f2 hightemp.txt > col2_cut.txt"
   ]
  },
  {
   "cell_type": "code",
   "execution_count": 11,
   "metadata": {
    "collapsed": false
   },
   "outputs": [
    {
     "name": "stdout",
     "output_type": "stream",
     "text": [
      "江川崎\r\n",
      "熊谷\r\n",
      "多治見\r\n",
      "山形\r\n",
      "甲府\r\n"
     ]
    }
   ],
   "source": [
    "!head -n5 col2_cut.txt"
   ]
  },
  {
   "cell_type": "markdown",
   "metadata": {},
   "source": [
    "## 13. col1.txtとcol2.txtをマージ\n",
    "12で作った col1.txt と col2.txt を結合し，元のファイルの1列目と2列目をタブ区切りで並べたテキストファイルを作成せよ．確認には paste コマンドを用いよ．"
   ]
  },
  {
   "cell_type": "code",
   "execution_count": 12,
   "metadata": {
    "collapsed": false
   },
   "outputs": [
    {
     "name": "stdout",
     "output_type": "stream",
     "text": [
      "Overwriting q13.py\n"
     ]
    }
   ],
   "source": [
    "%%file q13.py\n",
    "\n",
    "with open('col1.txt') as col1,\\\n",
    "     open('col2.txt') as col2:\n",
    "    for c1, c2 in zip(col1, col2):\n",
    "        print('{}\\t{}'.format(c1.rstrip('\\n'), c2), end='')"
   ]
  },
  {
   "cell_type": "code",
   "execution_count": 13,
   "metadata": {
    "collapsed": false
   },
   "outputs": [
    {
     "name": "stdout",
     "output_type": "stream",
     "text": [
      "高知県\t江川崎\r\n",
      "埼玉県\t熊谷\r\n",
      "岐阜県\t多治見\r\n",
      "山形県\t山形\r\n",
      "山梨県\t甲府\r\n"
     ]
    }
   ],
   "source": [
    "!python q13.py | head -n5"
   ]
  },
  {
   "cell_type": "code",
   "execution_count": 14,
   "metadata": {
    "collapsed": false
   },
   "outputs": [
    {
     "name": "stdout",
     "output_type": "stream",
     "text": [
      "高知県\t江川崎\r\n",
      "埼玉県\t熊谷\r\n",
      "岐阜県\t多治見\r\n",
      "山形県\t山形\r\n",
      "山梨県\t甲府\r\n"
     ]
    }
   ],
   "source": [
    "!paste col1.txt col2.txt | head -n5"
   ]
  },
  {
   "cell_type": "markdown",
   "metadata": {},
   "source": [
    "## 14. 先頭からN行を出力\n",
    "自然数Nをコマンドライン引数などの手段で受け取り，入力のうち先頭のN行だけを表示せよ．確認にはheadコマンドを用いよ．"
   ]
  },
  {
   "cell_type": "code",
   "execution_count": 15,
   "metadata": {
    "collapsed": false
   },
   "outputs": [
    {
     "name": "stdout",
     "output_type": "stream",
     "text": [
      "Overwriting q14.py\n"
     ]
    }
   ],
   "source": [
    "%%file q14.py\n",
    "import argparse\n",
    "import sys\n",
    "\n",
    "def arg_lines():\n",
    "    parser = argparse.ArgumentParser()\n",
    "    parser.add_argument('-n', '--lines', default='1', type=int)\n",
    "    args = parser.parse_args()\n",
    "    return args.lines\n",
    "\n",
    "def head(N):\n",
    "    for i, line in enumerate(sys.stdin):\n",
    "        if i < N:\n",
    "            print(line, end='')\n",
    "\n",
    "if __name__ == '__main__':\n",
    "    head(arg_lines())"
   ]
  },
  {
   "cell_type": "code",
   "execution_count": 16,
   "metadata": {
    "collapsed": false
   },
   "outputs": [
    {
     "name": "stdout",
     "output_type": "stream",
     "text": [
      "高知県\t江川崎\t41\t2013-08-12\r\n",
      "埼玉県\t熊谷\t40.9\t2007-08-16\r\n",
      "岐阜県\t多治見\t40.9\t2007-08-16\r\n",
      "山形県\t山形\t40.8\t1933-07-25\r\n",
      "山梨県\t甲府\t40.7\t2013-08-10\r\n"
     ]
    }
   ],
   "source": [
    "!python q14.py -n5 < hightemp.txt"
   ]
  },
  {
   "cell_type": "code",
   "execution_count": 17,
   "metadata": {
    "collapsed": false
   },
   "outputs": [
    {
     "name": "stdout",
     "output_type": "stream",
     "text": [
      "高知県\t江川崎\t41\t2013-08-12\r\n",
      "埼玉県\t熊谷\t40.9\t2007-08-16\r\n",
      "岐阜県\t多治見\t40.9\t2007-08-16\r\n",
      "山形県\t山形\t40.8\t1933-07-25\r\n",
      "山梨県\t甲府\t40.7\t2013-08-10\r\n"
     ]
    }
   ],
   "source": [
    "!head hightemp.txt -n5"
   ]
  },
  {
   "cell_type": "markdown",
   "metadata": {},
   "source": [
    "## 15. 末尾のN行を出力\n",
    "自然数Nをコマンドライン引数などの手段で受け取り，入力のうち末尾のN行だけを表示せよ．確認にはtailコマンドを用いよ．"
   ]
  },
  {
   "cell_type": "code",
   "execution_count": 18,
   "metadata": {
    "collapsed": false
   },
   "outputs": [
    {
     "name": "stdout",
     "output_type": "stream",
     "text": [
      "Overwriting q15.py\n"
     ]
    }
   ],
   "source": [
    "%%file q15.py\n",
    "from collections import deque\n",
    "import sys\n",
    "\n",
    "from q14 import arg_lines\n",
    "\n",
    "def tail(N):\n",
    "    buf = deque(sys.stdin, N)\n",
    "    for line in buf:\n",
    "        print(line, end='')\n",
    "\n",
    "if __name__ == '__main__':\n",
    "    tail(arg_lines())"
   ]
  },
  {
   "cell_type": "code",
   "execution_count": 19,
   "metadata": {
    "collapsed": false
   },
   "outputs": [
    {
     "name": "stdout",
     "output_type": "stream",
     "text": [
      "埼玉県\t鳩山\t39.9\t1997-07-05\r\n",
      "大阪府\t豊中\t39.9\t1994-08-08\r\n",
      "山梨県\t大月\t39.9\t1990-07-19\r\n",
      "山形県\t鶴岡\t39.9\t1978-08-03\r\n",
      "愛知県\t名古屋\t39.9\t1942-08-02\r\n"
     ]
    }
   ],
   "source": [
    "!python q15.py -n5 < hightemp.txt"
   ]
  },
  {
   "cell_type": "code",
   "execution_count": 20,
   "metadata": {
    "collapsed": false
   },
   "outputs": [
    {
     "name": "stdout",
     "output_type": "stream",
     "text": [
      "埼玉県\t鳩山\t39.9\t1997-07-05\r\n",
      "大阪府\t豊中\t39.9\t1994-08-08\r\n",
      "山梨県\t大月\t39.9\t1990-07-19\r\n",
      "山形県\t鶴岡\t39.9\t1978-08-03\r\n",
      "愛知県\t名古屋\t39.9\t1942-08-02\r\n"
     ]
    }
   ],
   "source": [
    "!tail -n5 hightemp.txt"
   ]
  },
  {
   "cell_type": "markdown",
   "metadata": {
    "collapsed": true
   },
   "source": [
    "## 16. ファイルをN分割する\n",
    "自然数Nをコマンドライン引数などの手段で受け取り，入力のファイルを行単位でN分割せよ．同様の処理をsplitコマンドで実現せよ．"
   ]
  },
  {
   "cell_type": "code",
   "execution_count": 1,
   "metadata": {
    "collapsed": false
   },
   "outputs": [
    {
     "name": "stdout",
     "output_type": "stream",
     "text": [
      "Overwriting q16.py\n"
     ]
    }
   ],
   "source": [
    "%%file q16.py\n",
    "import argparse\n",
    "import sys\n",
    "\n",
    "def main():\n",
    "    parser = argparse.ArgumentParser(\n",
    "        description='Output pieces of FILE to FILE1, FILE2, ...;')\n",
    "    parser.add_argument('file')\n",
    "    parser.add_argument('-n', '--number', type=int,\n",
    "                        help='split FILE into n pieces')\n",
    "    args = parser.parse_args()\n",
    "    file_split(args.file, args.number)\n",
    "\n",
    "def file_split(filename, N):\n",
    "    with open(filename) as fi:\n",
    "        n_lines = sum(1 for line in fi)\n",
    "        fi.seek(0)\n",
    "        widths = ((n_lines + i) // N for i in range(N))\n",
    "        file_n = 0\n",
    "        width = next(widths)\n",
    "        fo = open(filename+str(file_n), 'w')\n",
    "        for line in fi:\n",
    "            fo.write(line)\n",
    "            width -= 1\n",
    "            if width == 0:\n",
    "                fo.close()\n",
    "                try:\n",
    "                    width = next(widths)\n",
    "                except StopIteration:\n",
    "                    break\n",
    "                else:\n",
    "                    file_n += 1\n",
    "                    fo = open(filename+str(file_n), 'w')\n",
    "\n",
    "if __name__ == '__main__':\n",
    "    main()"
   ]
  },
  {
   "cell_type": "code",
   "execution_count": 2,
   "metadata": {
    "collapsed": false
   },
   "outputs": [],
   "source": [
    "!python q16.py hightemp.txt -n5"
   ]
  },
  {
   "cell_type": "code",
   "execution_count": 3,
   "metadata": {
    "collapsed": false
   },
   "outputs": [
    {
     "name": "stdout",
     "output_type": "stream",
     "text": [
      "  24 hightemp.txt\r\n",
      "   4 hightemp.txt0\r\n",
      "   5 hightemp.txt1\r\n",
      "   5 hightemp.txt2\r\n",
      "   5 hightemp.txt3\r\n",
      "   5 hightemp.txt4\r\n",
      "  48 total\r\n"
     ]
    }
   ],
   "source": [
    "!wc -l hightemp.txt*"
   ]
  },
  {
   "cell_type": "code",
   "execution_count": 24,
   "metadata": {
    "collapsed": true
   },
   "outputs": [],
   "source": [
    "!split -n l/5 -d hightemp.txt"
   ]
  },
  {
   "cell_type": "code",
   "execution_count": 25,
   "metadata": {
    "collapsed": false
   },
   "outputs": [
    {
     "name": "stdout",
     "output_type": "stream",
     "text": [
      "  5 x00\r\n",
      "  5 x01\r\n",
      "  5 x02\r\n",
      "  5 x03\r\n",
      "  4 x04\r\n",
      " 24 total\r\n"
     ]
    }
   ],
   "source": [
    "!wc -l x0*"
   ]
  },
  {
   "cell_type": "markdown",
   "metadata": {},
   "source": [
    "## 17. １列目の文字列の異なり\n",
    "1列目の文字列の種類（異なる文字列の集合）を求めよ．確認にはsort, uniqコマンドを用いよ．"
   ]
  },
  {
   "cell_type": "code",
   "execution_count": 26,
   "metadata": {
    "collapsed": false
   },
   "outputs": [
    {
     "name": "stdout",
     "output_type": "stream",
     "text": [
      "Overwriting q17.py\n"
     ]
    }
   ],
   "source": [
    "%%file q17.py\n",
    "import sys\n",
    "\n",
    "col1 = {line.split()[0] for line in sys.stdin}\n",
    "for elem in col1:\n",
    "    print(elem)"
   ]
  },
  {
   "cell_type": "code",
   "execution_count": 27,
   "metadata": {
    "collapsed": false
   },
   "outputs": [
    {
     "name": "stdout",
     "output_type": "stream",
     "text": [
      "埼玉県\r\n",
      "群馬県\r\n",
      "千葉県\r\n",
      "愛媛県\r\n",
      "岐阜県\r\n",
      "山梨県\r\n",
      "愛知県\r\n",
      "和歌山県\r\n",
      "大阪府\r\n",
      "山形県\r\n",
      "高知県\r\n",
      "静岡県\r\n"
     ]
    }
   ],
   "source": [
    "!python q17.py < hightemp.txt"
   ]
  },
  {
   "cell_type": "code",
   "execution_count": 28,
   "metadata": {
    "collapsed": false
   },
   "outputs": [
    {
     "name": "stdout",
     "output_type": "stream",
     "text": [
      "千葉県\r\n",
      "埼玉県\r\n",
      "大阪府\r\n",
      "山形県\r\n",
      "山梨県\r\n",
      "岐阜県\r\n",
      "愛媛県\r\n",
      "愛知県\r\n",
      "群馬県\r\n",
      "静岡県\r\n",
      "高知県\r\n",
      "和歌山県\r\n"
     ]
    }
   ],
   "source": [
    "!cut -f1 hightemp.txt | sort | uniq"
   ]
  },
  {
   "cell_type": "markdown",
   "metadata": {},
   "source": [
    "## 18. 各行を3コラム目の数値の降順にソート\n",
    "各行を3コラム目の数値の逆順で整列せよ（注意: 各行の内容は変更せずに並び替えよ）．確認にはsortコマンドを用いよ（この問題はコマンドで実行した時の結果と合わなくてもよい）．"
   ]
  },
  {
   "cell_type": "code",
   "execution_count": 4,
   "metadata": {
    "collapsed": false
   },
   "outputs": [
    {
     "name": "stdout",
     "output_type": "stream",
     "text": [
      "Overwriting q18.py\n"
     ]
    }
   ],
   "source": [
    "%%file q18.py\n",
    "import sys\n",
    "\n",
    "sorted_list = sorted(sys.stdin, key=lambda x: float(x.split('\\t')[2]),\n",
    "                     reverse=True)\n",
    "for elem in sorted_list:\n",
    "    print(elem, end='')\n"
   ]
  },
  {
   "cell_type": "code",
   "execution_count": 5,
   "metadata": {
    "collapsed": false
   },
   "outputs": [
    {
     "name": "stdout",
     "output_type": "stream",
     "text": [
      "高知県\t江川崎\t41\t2013-08-12\r\n",
      "埼玉県\t熊谷\t40.9\t2007-08-16\r\n",
      "岐阜県\t多治見\t40.9\t2007-08-16\r\n",
      "山形県\t山形\t40.8\t1933-07-25\r\n",
      "山梨県\t甲府\t40.7\t2013-08-10\r\n",
      "和歌山県\tかつらぎ\t40.6\t1994-08-08\r\n",
      "静岡県\t天竜\t40.6\t1994-08-04\r\n",
      "山梨県\t勝沼\t40.5\t2013-08-10\r\n",
      "埼玉県\t越谷\t40.4\t2007-08-16\r\n",
      "群馬県\t館林\t40.3\t2007-08-16\r\n"
     ]
    }
   ],
   "source": [
    "!python q18.py < hightemp.txt | head"
   ]
  },
  {
   "cell_type": "code",
   "execution_count": 31,
   "metadata": {
    "collapsed": false
   },
   "outputs": [
    {
     "name": "stdout",
     "output_type": "stream",
     "text": [
      "高知県\t江川崎\t41\t2013-08-12\r\n",
      "岐阜県\t多治見\t40.9\t2007-08-16\r\n",
      "埼玉県\t熊谷\t40.9\t2007-08-16\r\n",
      "山形県\t山形\t40.8\t1933-07-25\r\n",
      "山梨県\t甲府\t40.7\t2013-08-10\r\n",
      "和歌山県\tかつらぎ\t40.6\t1994-08-08\r\n",
      "静岡県\t天竜\t40.6\t1994-08-04\r\n",
      "山梨県\t勝沼\t40.5\t2013-08-10\r\n",
      "埼玉県\t越谷\t40.4\t2007-08-16\r\n",
      "群馬県\t上里見\t40.3\t1998-07-04\r\n"
     ]
    }
   ],
   "source": [
    "!sort -k3 -nr hightemp.txt | head"
   ]
  },
  {
   "cell_type": "markdown",
   "metadata": {},
   "source": [
    "## 19. 各行の1コラム目の文字列の出現頻度を求め，出現頻度の高い順に並べる\n",
    "各行の1列目の文字列の出現頻度を求め，その高い順に並べて表示せよ．確認にはcut, uniq, sortコマンドを用いよ．"
   ]
  },
  {
   "cell_type": "code",
   "execution_count": 32,
   "metadata": {
    "collapsed": false
   },
   "outputs": [
    {
     "name": "stdout",
     "output_type": "stream",
     "text": [
      "Overwriting q19.py\n"
     ]
    }
   ],
   "source": [
    "%%file q19.py\n",
    "from collections import Counter\n",
    "import sys\n",
    "\n",
    "col1_freq = Counter(line.split()[0] for line in sys.stdin)\n",
    "for elem, num in col1_freq.most_common():\n",
    "    print(num, elem)"
   ]
  },
  {
   "cell_type": "code",
   "execution_count": 33,
   "metadata": {
    "collapsed": false
   },
   "outputs": [
    {
     "name": "stdout",
     "output_type": "stream",
     "text": [
      "3 群馬県\r\n",
      "3 埼玉県\r\n",
      "3 山形県\r\n",
      "3 山梨県\r\n",
      "2 千葉県\r\n",
      "2 静岡県\r\n",
      "2 岐阜県\r\n",
      "2 愛知県\r\n",
      "1 高知県\r\n",
      "1 愛媛県\r\n",
      "1 大阪府\r\n",
      "1 和歌山県\r\n"
     ]
    }
   ],
   "source": [
    "!python q19.py < hightemp.txt"
   ]
  },
  {
   "cell_type": "code",
   "execution_count": 34,
   "metadata": {
    "collapsed": false
   },
   "outputs": [
    {
     "name": "stdout",
     "output_type": "stream",
     "text": [
      "      3 群馬県\r\n",
      "      3 山梨県\r\n",
      "      3 山形県\r\n",
      "      3 埼玉県\r\n",
      "      2 静岡県\r\n",
      "      2 愛知県\r\n",
      "      2 岐阜県\r\n",
      "      2 千葉県\r\n",
      "      1 和歌山県\r\n",
      "      1 高知県\r\n",
      "      1 愛媛県\r\n",
      "      1 大阪府\r\n"
     ]
    }
   ],
   "source": [
    "!cut -f 1 hightemp.txt | sort | uniq -c | sort -nr"
   ]
  }
 ],
 "metadata": {
  "anaconda-cloud": {},
  "kernelspec": {
   "display_name": "Python [default]",
   "language": "python",
   "name": "python3"
  },
  "language_info": {
   "codemirror_mode": {
    "name": "ipython",
    "version": 3
   },
   "file_extension": ".py",
   "mimetype": "text/x-python",
   "name": "python",
   "nbconvert_exporter": "python",
   "pygments_lexer": "ipython3",
   "version": "3.5.2"
  }
 },
 "nbformat": 4,
 "nbformat_minor": 2
}
