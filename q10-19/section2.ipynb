{
 "cells": [
  {
   "cell_type": "markdown",
   "metadata": {},
   "source": [
    "# 第2章: UNIXコマンドの基礎\n",
    "---\n",
    "[hightemp.txt](http://www.cl.ecei.tohoku.ac.jp/nlp100/data/hightemp.txt)は，日本の最高気温の記録を「都道府県」「地点」「℃」「日」のタブ区切り形式で格納したファイルである．以下の処理を行うプログラムを作成し，hightemp.txtを入力ファイルとして実行せよ．さらに，同様の処理をUNIXコマンドでも実行し，プログラムの実行結果を確認せよ．"
   ]
  },
  {
   "cell_type": "code",
   "execution_count": 1,
   "metadata": {
    "collapsed": false
   },
   "outputs": [
    {
     "name": "stdout",
     "output_type": "stream",
     "text": [
      "  % Total    % Received % Xferd  Average Speed   Time    Time     Time  Current\n",
      "                                 Dload  Upload   Total   Spent    Left  Speed\n",
      "100   813  100   813    0     0   1364      0 --:--:-- --:--:-- --:--:--  1364\n"
     ]
    }
   ],
   "source": [
    "!curl -O http://www.cl.ecei.tohoku.ac.jp/nlp100/data/hightemp.txt"
   ]
  },
  {
   "cell_type": "markdown",
   "metadata": {},
   "source": [
    "## 10. 行数のカウント\n",
    "行数をカウントせよ．確認にはwcコマンドを用いよ．"
   ]
  },
  {
   "cell_type": "code",
   "execution_count": 36,
   "metadata": {
    "collapsed": false
   },
   "outputs": [
    {
     "name": "stdout",
     "output_type": "stream",
     "text": [
      "Overwriting q10.py\n"
     ]
    }
   ],
   "source": [
    "%%file q10.py\n",
    "import sys\n",
    "\n",
    "\n",
    "print(sum(1 for l in sys.stdin))\n"
   ]
  },
  {
   "cell_type": "code",
   "execution_count": 2,
   "metadata": {
    "collapsed": false
   },
   "outputs": [
    {
     "name": "stdout",
     "output_type": "stream",
     "text": [
      "24\r\n"
     ]
    }
   ],
   "source": [
    "!python q10.py < hightemp.txt"
   ]
  },
  {
   "cell_type": "code",
   "execution_count": 3,
   "metadata": {
    "collapsed": false
   },
   "outputs": [
    {
     "name": "stdout",
     "output_type": "stream",
     "text": [
      "24 hightemp.txt\r\n"
     ]
    }
   ],
   "source": [
    "!wc -l hightemp.txt"
   ]
  },
  {
   "cell_type": "markdown",
   "metadata": {},
   "source": [
    "## 11. タブをスペースに置換\n",
    "タブ1文字につきスペース1文字に置換せよ．確認にはsedコマンド，trコマンド，もしくはexpandコマンドを用いよ．"
   ]
  },
  {
   "cell_type": "code",
   "execution_count": 37,
   "metadata": {
    "collapsed": false
   },
   "outputs": [
    {
     "name": "stdout",
     "output_type": "stream",
     "text": [
      "Overwriting q11.py\n"
     ]
    }
   ],
   "source": [
    "%%file q11.py\n",
    "import sys\n",
    "\n",
    "\n",
    "for line in sys.stdin:\n",
    "    print(line.expandtabs(1), end='')\n"
   ]
  },
  {
   "cell_type": "code",
   "execution_count": 5,
   "metadata": {
    "collapsed": false
   },
   "outputs": [
    {
     "name": "stdout",
     "output_type": "stream",
     "text": [
      "高知県 江川崎 41 2013-08-12\r\n",
      "埼玉県 熊谷 40.9 2007-08-16\r\n",
      "岐阜県 多治見 40.9 2007-08-16\r\n",
      "山形県 山形 40.8 1933-07-25\r\n",
      "山梨県 甲府 40.7 2013-08-10\r\n",
      "和歌山県 かつらぎ 40.6 1994-08-08\r\n",
      "静岡県 天竜 40.6 1994-08-04\r\n",
      "山梨県 勝沼 40.5 2013-08-10\r\n",
      "埼玉県 越谷 40.4 2007-08-16\r\n",
      "群馬県 館林 40.3 2007-08-16\r\n"
     ]
    }
   ],
   "source": [
    "!python q11.py < hightemp.txt | head"
   ]
  },
  {
   "cell_type": "code",
   "execution_count": 6,
   "metadata": {
    "collapsed": false
   },
   "outputs": [
    {
     "name": "stdout",
     "output_type": "stream",
     "text": [
      "高知県 江川崎 41 2013-08-12\r\n",
      "埼玉県 熊谷 40.9 2007-08-16\r\n",
      "岐阜県 多治見 40.9 2007-08-16\r\n",
      "山形県 山形 40.8 1933-07-25\r\n",
      "山梨県 甲府 40.7 2013-08-10\r\n",
      "和歌山県 かつらぎ 40.6 1994-08-08\r\n",
      "静岡県 天竜 40.6 1994-08-04\r\n",
      "山梨県 勝沼 40.5 2013-08-10\r\n",
      "埼玉県 越谷 40.4 2007-08-16\r\n",
      "群馬県 館林 40.3 2007-08-16\r\n"
     ]
    }
   ],
   "source": [
    "!tr '\\t' ' ' < hightemp.txt | head"
   ]
  },
  {
   "cell_type": "markdown",
   "metadata": {},
   "source": [
    "## 12. 1列目をcol1.txtに，2列目をcol2.txtに保存\n",
    "各行の1列目だけを抜き出したものをcol1.txtに，2列目だけを抜き出したものをcol2.txtとしてファイルに保存せよ．確認にはcutコマンドを用いよ．"
   ]
  },
  {
   "cell_type": "code",
   "execution_count": 38,
   "metadata": {
    "collapsed": false
   },
   "outputs": [
    {
     "name": "stdout",
     "output_type": "stream",
     "text": [
      "Overwriting q12.py\n"
     ]
    }
   ],
   "source": [
    "%%file q12.py\n",
    "import sys\n",
    "\n",
    "\n",
    "with open('col1.txt', 'w') as col1,\\\n",
    "     open('col2.txt', 'w') as col2:\n",
    "    for line in sys.stdin:\n",
    "        cols = line.split('\\t')\n",
    "        col1.write(cols[0] + '\\n')\n",
    "        col2.write(cols[1] + '\\n')\n"
   ]
  },
  {
   "cell_type": "code",
   "execution_count": 8,
   "metadata": {
    "collapsed": false
   },
   "outputs": [],
   "source": [
    "!python q12.py < hightemp.txt"
   ]
  },
  {
   "cell_type": "code",
   "execution_count": 9,
   "metadata": {
    "collapsed": false
   },
   "outputs": [
    {
     "name": "stdout",
     "output_type": "stream",
     "text": [
      "江川崎\r\n",
      "熊谷\r\n",
      "多治見\r\n",
      "山形\r\n",
      "甲府\r\n"
     ]
    }
   ],
   "source": [
    "!head -n5 col2.txt"
   ]
  },
  {
   "cell_type": "code",
   "execution_count": 10,
   "metadata": {
    "collapsed": true
   },
   "outputs": [],
   "source": [
    "!cut -f1 hightemp.txt > col1_cut.txt && cut -f2 hightemp.txt > col2_cut.txt"
   ]
  },
  {
   "cell_type": "code",
   "execution_count": 11,
   "metadata": {
    "collapsed": false
   },
   "outputs": [
    {
     "name": "stdout",
     "output_type": "stream",
     "text": [
      "江川崎\r\n",
      "熊谷\r\n",
      "多治見\r\n",
      "山形\r\n",
      "甲府\r\n"
     ]
    }
   ],
   "source": [
    "!head -n5 col2_cut.txt"
   ]
  },
  {
   "cell_type": "markdown",
   "metadata": {},
   "source": [
    "## 13. col1.txtとcol2.txtをマージ\n",
    "12で作った col1.txt と col2.txt を結合し，元のファイルの1列目と2列目をタブ区切りで並べたテキストファイルを作成せよ．確認には paste コマンドを用いよ．"
   ]
  },
  {
   "cell_type": "code",
   "execution_count": 39,
   "metadata": {
    "collapsed": false
   },
   "outputs": [
    {
     "name": "stdout",
     "output_type": "stream",
     "text": [
      "Overwriting q13.py\n"
     ]
    }
   ],
   "source": [
    "%%file q13.py\n",
    "with open('col1.txt') as col1,\\\n",
    "     open('col2.txt') as col2:\n",
    "    for c1, c2 in zip(col1, col2):\n",
    "        print('{}\\t{}'.format(c1.rstrip('\\n'), c2), end='')\n"
   ]
  },
  {
   "cell_type": "code",
   "execution_count": 13,
   "metadata": {
    "collapsed": false
   },
   "outputs": [
    {
     "name": "stdout",
     "output_type": "stream",
     "text": [
      "高知県\t江川崎\r\n",
      "埼玉県\t熊谷\r\n",
      "岐阜県\t多治見\r\n",
      "山形県\t山形\r\n",
      "山梨県\t甲府\r\n"
     ]
    }
   ],
   "source": [
    "!python q13.py | head -n5"
   ]
  },
  {
   "cell_type": "code",
   "execution_count": 14,
   "metadata": {
    "collapsed": false
   },
   "outputs": [
    {
     "name": "stdout",
     "output_type": "stream",
     "text": [
      "高知県\t江川崎\r\n",
      "埼玉県\t熊谷\r\n",
      "岐阜県\t多治見\r\n",
      "山形県\t山形\r\n",
      "山梨県\t甲府\r\n"
     ]
    }
   ],
   "source": [
    "!paste col1.txt col2.txt | head -n5"
   ]
  },
  {
   "cell_type": "markdown",
   "metadata": {},
   "source": [
    "## 14. 先頭からN行を出力\n",
    "自然数Nをコマンドライン引数などの手段で受け取り，入力のうち先頭のN行だけを表示せよ．確認にはheadコマンドを用いよ．"
   ]
  },
  {
   "cell_type": "code",
   "execution_count": 1,
   "metadata": {
    "collapsed": false
   },
   "outputs": [
    {
     "name": "stdout",
     "output_type": "stream",
     "text": [
      "Overwriting q14.py\n"
     ]
    }
   ],
   "source": [
    "%%file q14.py\n",
    "import argparse\n",
    "import sys\n",
    "\n",
    "\n",
    "def arg_lines():\n",
    "    parser = argparse.ArgumentParser()\n",
    "    parser.add_argument('-n', '--lines', default='1', type=int)\n",
    "    args = parser.parse_args()\n",
    "    return args.lines\n",
    "\n",
    "\n",
    "def head(N):\n",
    "    for i, line in enumerate(sys.stdin):\n",
    "        if i < N:\n",
    "            print(line, end='')\n",
    "        else:\n",
    "            break\n",
    "\n",
    "\n",
    "if __name__ == '__main__':\n",
    "    head(arg_lines())\n"
   ]
  },
  {
   "cell_type": "code",
   "execution_count": 2,
   "metadata": {
    "collapsed": false
   },
   "outputs": [
    {
     "name": "stdout",
     "output_type": "stream",
     "text": [
      "高知県\t江川崎\t41\t2013-08-12\r\n",
      "埼玉県\t熊谷\t40.9\t2007-08-16\r\n",
      "岐阜県\t多治見\t40.9\t2007-08-16\r\n",
      "山形県\t山形\t40.8\t1933-07-25\r\n",
      "山梨県\t甲府\t40.7\t2013-08-10\r\n"
     ]
    }
   ],
   "source": [
    "!python q14.py -n5 < hightemp.txt"
   ]
  },
  {
   "cell_type": "code",
   "execution_count": 17,
   "metadata": {
    "collapsed": false
   },
   "outputs": [
    {
     "name": "stdout",
     "output_type": "stream",
     "text": [
      "高知県\t江川崎\t41\t2013-08-12\r\n",
      "埼玉県\t熊谷\t40.9\t2007-08-16\r\n",
      "岐阜県\t多治見\t40.9\t2007-08-16\r\n",
      "山形県\t山形\t40.8\t1933-07-25\r\n",
      "山梨県\t甲府\t40.7\t2013-08-10\r\n"
     ]
    }
   ],
   "source": [
    "!head hightemp.txt -n5"
   ]
  },
  {
   "cell_type": "markdown",
   "metadata": {},
   "source": [
    "## 15. 末尾のN行を出力\n",
    "自然数Nをコマンドライン引数などの手段で受け取り，入力のうち末尾のN行だけを表示せよ．確認にはtailコマンドを用いよ．"
   ]
  },
  {
   "cell_type": "code",
   "execution_count": 13,
   "metadata": {
    "collapsed": false
   },
   "outputs": [
    {
     "name": "stdout",
     "output_type": "stream",
     "text": [
      "Overwriting q15.py\n"
     ]
    }
   ],
   "source": [
    "%%file q15.py\n",
    "from collections import deque\n",
    "import sys\n",
    "\n",
    "from q14 import arg_lines\n",
    "\n",
    "\n",
    "def tail(N):\n",
    "    buf = deque(sys.stdin, N)\n",
    "    for line in buf:\n",
    "        print(line, end='')\n",
    "\n",
    "\n",
    "if __name__ == '__main__':\n",
    "    tail(arg_lines())\n"
   ]
  },
  {
   "cell_type": "code",
   "execution_count": 14,
   "metadata": {
    "collapsed": false
   },
   "outputs": [
    {
     "name": "stdout",
     "output_type": "stream",
     "text": [
      "埼玉県\t鳩山\t39.9\t1997-07-05\r\n",
      "大阪府\t豊中\t39.9\t1994-08-08\r\n",
      "山梨県\t大月\t39.9\t1990-07-19\r\n",
      "山形県\t鶴岡\t39.9\t1978-08-03\r\n",
      "愛知県\t名古屋\t39.9\t1942-08-02\r\n"
     ]
    }
   ],
   "source": [
    "!python q15.py -n5 < hightemp.txt"
   ]
  },
  {
   "cell_type": "code",
   "execution_count": 20,
   "metadata": {
    "collapsed": false
   },
   "outputs": [
    {
     "name": "stdout",
     "output_type": "stream",
     "text": [
      "埼玉県\t鳩山\t39.9\t1997-07-05\r\n",
      "大阪府\t豊中\t39.9\t1994-08-08\r\n",
      "山梨県\t大月\t39.9\t1990-07-19\r\n",
      "山形県\t鶴岡\t39.9\t1978-08-03\r\n",
      "愛知県\t名古屋\t39.9\t1942-08-02\r\n"
     ]
    }
   ],
   "source": [
    "!tail -n5 hightemp.txt"
   ]
  },
  {
   "cell_type": "markdown",
   "metadata": {
    "collapsed": true
   },
   "source": [
    "## 16. ファイルをN分割する\n",
    "自然数Nをコマンドライン引数などの手段で受け取り，入力のファイルを行単位でN分割せよ．同様の処理をsplitコマンドで実現せよ．"
   ]
  },
  {
   "cell_type": "code",
   "execution_count": 18,
   "metadata": {
    "collapsed": false
   },
   "outputs": [
    {
     "name": "stdout",
     "output_type": "stream",
     "text": [
      "Overwriting q16.py\n"
     ]
    }
   ],
   "source": [
    "%%file q16.py\n",
    "import argparse\n",
    "import sys\n",
    "\n",
    "\n",
    "def main():\n",
    "    parser = argparse.ArgumentParser(\n",
    "        description='Output pieces of FILE to FILE1, FILE2, ...;')\n",
    "    parser.add_argument('file')\n",
    "    parser.add_argument('-n', '--number', type=int,\n",
    "                        help='split FILE into n pieces')\n",
    "    args = parser.parse_args()\n",
    "    file_split(args.file, args.number)\n",
    "\n",
    "    \n",
    "def file_split(filename, N):\n",
    "    with open(filename) as fi:\n",
    "        n_lines = sum(1 for line in fi)\n",
    "        fi.seek(0)\n",
    "        \n",
    "        widths = ((n_lines + i) // N for i in range(N))\n",
    "        for file_n, width in enumerate(widths):\n",
    "            fo = open(filename+str(file_n), 'w')\n",
    "            for _ in range(width):\n",
    "                fo.write(fi.readline())\n",
    "            fo.close()\n",
    "        fi.close()\n",
    "\n",
    "\n",
    "if __name__ == '__main__':\n",
    "    main()"
   ]
  },
  {
   "cell_type": "code",
   "execution_count": 23,
   "metadata": {
    "collapsed": false
   },
   "outputs": [],
   "source": [
    "!python q16.py hightemp.txt -n5"
   ]
  },
  {
   "cell_type": "code",
   "execution_count": 24,
   "metadata": {
    "collapsed": false
   },
   "outputs": [
    {
     "name": "stdout",
     "output_type": "stream",
     "text": [
      "  24 hightemp.txt\r\n",
      "   4 hightemp.txt0\r\n",
      "   5 hightemp.txt1\r\n",
      "   5 hightemp.txt2\r\n",
      "   5 hightemp.txt3\r\n",
      "   5 hightemp.txt4\r\n",
      "  48 total\r\n"
     ]
    }
   ],
   "source": [
    "!wc -l hightemp.txt*"
   ]
  },
  {
   "cell_type": "code",
   "execution_count": 25,
   "metadata": {
    "collapsed": true
   },
   "outputs": [],
   "source": [
    "!split -n l/5 -d hightemp.txt split"
   ]
  },
  {
   "cell_type": "code",
   "execution_count": 8,
   "metadata": {
    "collapsed": false
   },
   "outputs": [
    {
     "name": "stdout",
     "output_type": "stream",
     "text": [
      "  5 split00\r\n",
      "  5 split01\r\n",
      "  5 split02\r\n",
      "  5 split03\r\n",
      "  4 split04\r\n",
      " 24 total\r\n"
     ]
    }
   ],
   "source": [
    "!wc -l split*"
   ]
  },
  {
   "cell_type": "markdown",
   "metadata": {},
   "source": [
    "## 17. １列目の文字列の異なり\n",
    "1列目の文字列の種類（異なる文字列の集合）を求めよ．確認にはsort, uniqコマンドを用いよ．"
   ]
  },
  {
   "cell_type": "code",
   "execution_count": 15,
   "metadata": {
    "collapsed": false
   },
   "outputs": [
    {
     "name": "stdout",
     "output_type": "stream",
     "text": [
      "Overwriting q17.py\n"
     ]
    }
   ],
   "source": [
    "%%file q17.py\n",
    "import sys\n",
    "\n",
    "\n",
    "col1 = {line.split()[0] for line in sys.stdin}\n",
    "for elem in col1:\n",
    "    print(elem)\n"
   ]
  },
  {
   "cell_type": "code",
   "execution_count": 16,
   "metadata": {
    "collapsed": false
   },
   "outputs": [
    {
     "name": "stdout",
     "output_type": "stream",
     "text": [
      "愛知県\r\n",
      "愛媛県\r\n",
      "群馬県\r\n",
      "千葉県\r\n",
      "和歌山県\r\n",
      "山梨県\r\n",
      "大阪府\r\n",
      "山形県\r\n",
      "埼玉県\r\n",
      "高知県\r\n",
      "静岡県\r\n",
      "岐阜県\r\n"
     ]
    }
   ],
   "source": [
    "!python q17.py < hightemp.txt"
   ]
  },
  {
   "cell_type": "code",
   "execution_count": 19,
   "metadata": {
    "collapsed": false
   },
   "outputs": [
    {
     "name": "stdout",
     "output_type": "stream",
     "text": [
      "千葉県\r\n",
      "埼玉県\r\n",
      "大阪府\r\n",
      "山形県\r\n",
      "山梨県\r\n",
      "岐阜県\r\n",
      "愛媛県\r\n",
      "愛知県\r\n",
      "群馬県\r\n",
      "静岡県\r\n",
      "高知県\r\n",
      "和歌山県\r\n"
     ]
    }
   ],
   "source": [
    "!cut -f1 hightemp.txt | sort | uniq"
   ]
  },
  {
   "cell_type": "markdown",
   "metadata": {},
   "source": [
    "### Pandas"
   ]
  },
  {
   "cell_type": "code",
   "execution_count": 16,
   "metadata": {
    "collapsed": false
   },
   "outputs": [
    {
     "data": {
      "text/plain": [
       "山形県     3\n",
       "群馬県     3\n",
       "埼玉県     3\n",
       "山梨県     3\n",
       "千葉県     2\n",
       "岐阜県     2\n",
       "愛知県     2\n",
       "静岡県     2\n",
       "大阪府     1\n",
       "高知県     1\n",
       "愛媛県     1\n",
       "和歌山県    1\n",
       "Name: 都道府県, dtype: int64"
      ]
     },
     "execution_count": 16,
     "metadata": {},
     "output_type": "execute_result"
    }
   ],
   "source": [
    "import pandas as pd\n",
    "\n",
    "\n",
    "df = pd.read_csv('hightemp.txt', delimiter='\\t', names=('都道府県','地点', '気温', '日付'))\n",
    "df.都道府県.value_counts()"
   ]
  },
  {
   "cell_type": "markdown",
   "metadata": {},
   "source": [
    "## 18. 各行を3コラム目の数値の降順にソート\n",
    "各行を3コラム目の数値の逆順で整列せよ（注意: 各行の内容は変更せずに並び替えよ）．確認にはsortコマンドを用いよ（この問題はコマンドで実行した時の結果と合わなくてもよい）．"
   ]
  },
  {
   "cell_type": "code",
   "execution_count": 34,
   "metadata": {
    "collapsed": false
   },
   "outputs": [
    {
     "name": "stdout",
     "output_type": "stream",
     "text": [
      "Overwriting q18.py\n"
     ]
    }
   ],
   "source": [
    "%%file q18.py\n",
    "import sys\n",
    "\n",
    "\n",
    "sorted_list = sorted(sys.stdin, key=lambda x: float(x.split('\\t')[2]))\n",
    "for elem in sorted_list:\n",
    "    print(elem, end='')\n"
   ]
  },
  {
   "cell_type": "code",
   "execution_count": 29,
   "metadata": {
    "collapsed": false
   },
   "outputs": [
    {
     "name": "stdout",
     "output_type": "stream",
     "text": [
      "千葉県\t茂原\t39.9\t2013-08-11\r\n",
      "埼玉県\t鳩山\t39.9\t1997-07-05\r\n",
      "大阪府\t豊中\t39.9\t1994-08-08\r\n",
      "山梨県\t大月\t39.9\t1990-07-19\r\n",
      "山形県\t鶴岡\t39.9\t1978-08-03\r\n",
      "愛知県\t名古屋\t39.9\t1942-08-02\r\n",
      "岐阜県\t美濃\t40\t2007-08-16\r\n",
      "群馬県\t前橋\t40\t2001-07-24\r\n",
      "山形県\t酒田\t40.1\t1978-08-03\r\n",
      "千葉県\t牛久\t40.2\t2004-07-20\r\n"
     ]
    }
   ],
   "source": [
    "!python q18.py < hightemp.txt | head"
   ]
  },
  {
   "cell_type": "code",
   "execution_count": 30,
   "metadata": {
    "collapsed": false
   },
   "outputs": [
    {
     "name": "stdout",
     "output_type": "stream",
     "text": [
      "山形県\t鶴岡\t39.9\t1978-08-03\r\n",
      "山梨県\t大月\t39.9\t1990-07-19\r\n",
      "大阪府\t豊中\t39.9\t1994-08-08\r\n",
      "埼玉県\t鳩山\t39.9\t1997-07-05\r\n",
      "千葉県\t茂原\t39.9\t2013-08-11\r\n",
      "愛知県\t名古屋\t39.9\t1942-08-02\r\n",
      "群馬県\t前橋\t40\t2001-07-24\r\n",
      "岐阜県\t美濃\t40\t2007-08-16\r\n",
      "山形県\t酒田\t40.1\t1978-08-03\r\n",
      "千葉県\t牛久\t40.2\t2004-07-20\r\n"
     ]
    }
   ],
   "source": [
    "!sort -k3 -n hightemp.txt | head"
   ]
  },
  {
   "cell_type": "code",
   "execution_count": 31,
   "metadata": {
    "collapsed": false
   },
   "outputs": [
    {
     "name": "stdout",
     "output_type": "stream",
     "text": [
      "千葉県\t茂原\t39.9\t2013-08-11\r\n",
      "埼玉県\t鳩山\t39.9\t1997-07-05\r\n",
      "大阪府\t豊中\t39.9\t1994-08-08\r\n",
      "山形県\t鶴岡\t39.9\t1978-08-03\r\n",
      "山梨県\t大月\t39.9\t1990-07-19\r\n",
      "愛知県\t名古屋\t39.9\t1942-08-02\r\n",
      "岐阜県\t美濃\t40\t2007-08-16\r\n",
      "群馬県\t前橋\t40\t2001-07-24\r\n",
      "山形県\t酒田\t40.1\t1978-08-03\r\n",
      "千葉県\t牛久\t40.2\t2004-07-20\r\n"
     ]
    }
   ],
   "source": [
    "!LC_ALL=C sort -k3 -n hightemp.txt | head"
   ]
  },
  {
   "cell_type": "markdown",
   "metadata": {},
   "source": [
    "### Pandas"
   ]
  },
  {
   "cell_type": "code",
   "execution_count": 17,
   "metadata": {
    "collapsed": false
   },
   "outputs": [
    {
     "data": {
      "text/html": [
       "<div>\n",
       "<table border=\"1\" class=\"dataframe\">\n",
       "  <thead>\n",
       "    <tr style=\"text-align: right;\">\n",
       "      <th></th>\n",
       "      <th>都道府県</th>\n",
       "      <th>地点</th>\n",
       "      <th>気温</th>\n",
       "      <th>日付</th>\n",
       "    </tr>\n",
       "  </thead>\n",
       "  <tbody>\n",
       "    <tr>\n",
       "      <th>23</th>\n",
       "      <td>愛知県</td>\n",
       "      <td>名古屋</td>\n",
       "      <td>39.9</td>\n",
       "      <td>1942-08-02</td>\n",
       "    </tr>\n",
       "    <tr>\n",
       "      <th>21</th>\n",
       "      <td>山梨県</td>\n",
       "      <td>大月</td>\n",
       "      <td>39.9</td>\n",
       "      <td>1990-07-19</td>\n",
       "    </tr>\n",
       "    <tr>\n",
       "      <th>20</th>\n",
       "      <td>大阪府</td>\n",
       "      <td>豊中</td>\n",
       "      <td>39.9</td>\n",
       "      <td>1994-08-08</td>\n",
       "    </tr>\n",
       "    <tr>\n",
       "      <th>19</th>\n",
       "      <td>埼玉県</td>\n",
       "      <td>鳩山</td>\n",
       "      <td>39.9</td>\n",
       "      <td>1997-07-05</td>\n",
       "    </tr>\n",
       "    <tr>\n",
       "      <th>18</th>\n",
       "      <td>千葉県</td>\n",
       "      <td>茂原</td>\n",
       "      <td>39.9</td>\n",
       "      <td>2013-08-11</td>\n",
       "    </tr>\n",
       "  </tbody>\n",
       "</table>\n",
       "</div>"
      ],
      "text/plain": [
       "   都道府県   地点    気温          日付\n",
       "23  愛知県  名古屋  39.9  1942-08-02\n",
       "21  山梨県   大月  39.9  1990-07-19\n",
       "20  大阪府   豊中  39.9  1994-08-08\n",
       "19  埼玉県   鳩山  39.9  1997-07-05\n",
       "18  千葉県   茂原  39.9  2013-08-11"
      ]
     },
     "execution_count": 17,
     "metadata": {},
     "output_type": "execute_result"
    }
   ],
   "source": [
    "df.sort_values(by=['気温']).head()"
   ]
  },
  {
   "cell_type": "markdown",
   "metadata": {
    "collapsed": false
   },
   "source": [
    "### 巨大なファイルだったら？"
   ]
  },
  {
   "cell_type": "code",
   "execution_count": 26,
   "metadata": {
    "collapsed": false
   },
   "outputs": [
    {
     "name": "stdout",
     "output_type": "stream",
     "text": [
      "大阪府\t豊中\t39.9\t1994-08-08\r\n",
      "山形県\t鶴岡\t39.9\t1978-08-03\r\n",
      "山梨県\t大月\t39.9\t1990-07-19\r\n",
      "千葉県\t茂原\t39.9\t2013-08-11\r\n",
      "埼玉県\t鳩山\t39.9\t1997-07-05\r\n",
      "愛知県\t名古屋\t39.9\t1942-08-02\r\n",
      "岐阜県\t美濃\t40\t2007-08-16\r\n",
      "群馬県\t前橋\t40\t2001-07-24\r\n",
      "山形県\t酒田\t40.1\t1978-08-03\r\n",
      "千葉県\t牛久\t40.2\t2004-07-20\r\n"
     ]
    }
   ],
   "source": [
    "!ls split* | xargs -I% sh -c 'LC_ALL=C sort -k3 -n % > %.sorted && mv %.sorted %'\n",
    "!sort -k3 -nm split* | head"
   ]
  },
  {
   "cell_type": "markdown",
   "metadata": {},
   "source": [
    "## 19. 各行の1コラム目の文字列の出現頻度を求め，出現頻度の高い順に並べる\n",
    "各行の1列目の文字列の出現頻度を求め，その高い順に並べて表示せよ．確認にはcut, uniq, sortコマンドを用いよ．"
   ]
  },
  {
   "cell_type": "code",
   "execution_count": 44,
   "metadata": {
    "collapsed": false
   },
   "outputs": [
    {
     "name": "stdout",
     "output_type": "stream",
     "text": [
      "Overwriting q19.py\n"
     ]
    }
   ],
   "source": [
    "%%file q19.py\n",
    "from collections import Counter\n",
    "import sys\n",
    "\n",
    "\n",
    "col1_freq = Counter(line.split()[0] for line in sys.stdin)\n",
    "for elem, num in col1_freq.most_common():\n",
    "    print(num, elem)\n"
   ]
  },
  {
   "cell_type": "code",
   "execution_count": 33,
   "metadata": {
    "collapsed": false
   },
   "outputs": [
    {
     "name": "stdout",
     "output_type": "stream",
     "text": [
      "3 山形県\r\n",
      "3 群馬県\r\n",
      "3 山梨県\r\n",
      "3 埼玉県\r\n",
      "2 岐阜県\r\n",
      "2 静岡県\r\n",
      "2 愛知県\r\n",
      "2 千葉県\r\n",
      "1 高知県\r\n",
      "1 和歌山県\r\n",
      "1 愛媛県\r\n",
      "1 大阪府\r\n"
     ]
    }
   ],
   "source": [
    "!python q19.py < hightemp.txt"
   ]
  },
  {
   "cell_type": "code",
   "execution_count": 23,
   "metadata": {
    "collapsed": false
   },
   "outputs": [
    {
     "name": "stdout",
     "output_type": "stream",
     "text": [
      "      3 群馬県\r\n",
      "      3 山梨県\r\n",
      "      3 山形県\r\n",
      "      3 埼玉県\r\n",
      "      2 静岡県\r\n",
      "      2 愛知県\r\n",
      "      2 岐阜県\r\n",
      "      2 千葉県\r\n",
      "      1 和歌山県\r\n",
      "      1 高知県\r\n",
      "      1 愛媛県\r\n",
      "      1 大阪府\r\n"
     ]
    }
   ],
   "source": [
    "!cut -f 1 hightemp.txt | sort | uniq -c | sort -nr"
   ]
  },
  {
   "cell_type": "markdown",
   "metadata": {},
   "source": [
    "### Pandas"
   ]
  },
  {
   "cell_type": "code",
   "execution_count": 5,
   "metadata": {
    "collapsed": false
   },
   "outputs": [
    {
     "data": {
      "text/plain": [
       "山形県     3\n",
       "群馬県     3\n",
       "山梨県     3\n",
       "埼玉県     3\n",
       "岐阜県     2\n",
       "千葉県     2\n",
       "愛知県     2\n",
       "静岡県     2\n",
       "高知県     1\n",
       "愛媛県     1\n",
       "和歌山県    1\n",
       "大阪府     1\n",
       "Name: 都道府県, dtype: int64"
      ]
     },
     "execution_count": 5,
     "metadata": {},
     "output_type": "execute_result"
    }
   ],
   "source": [
    "df.都道府県.value_counts()"
   ]
  }
 ],
 "metadata": {
  "anaconda-cloud": {},
  "kernelspec": {
   "display_name": "Python [default]",
   "language": "python",
   "name": "python3"
  },
  "language_info": {
   "codemirror_mode": {
    "name": "ipython",
    "version": 3
   },
   "file_extension": ".py",
   "mimetype": "text/x-python",
   "name": "python",
   "nbconvert_exporter": "python",
   "pygments_lexer": "ipython3",
   "version": "3.5.2"
  }
 },
 "nbformat": 4,
 "nbformat_minor": 2
}
