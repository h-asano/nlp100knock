{
 "cells": [
  {
   "cell_type": "markdown",
   "metadata": {},
   "source": [
    "# 第6章: 英語テキストの処理\n",
    "---\n",
    "英語のテキスト（nlp.txt）に対して，以下の処理を実行せよ．"
   ]
  },
  {
   "cell_type": "markdown",
   "metadata": {},
   "source": [
    "## 53. Tokenization\n",
    "Stanford Core NLPを用い，入力テキストの解析結果をXML形式で得よ．また，このXMLファイルを読み込み，入力テキストを1行1単語の形式で出力せよ．"
   ]
  },
  {
   "cell_type": "code",
   "execution_count": 2,
   "metadata": {
    "collapsed": false
   },
   "outputs": [
    {
     "name": "stdout",
     "output_type": "stream",
     "text": [
      "  % Total    % Received % Xferd  Average Speed   Time    Time     Time  Current\n",
      "                                 Dload  Upload   Total   Spent    Left  Speed\n",
      "100  8594  100  8594    0     0  10900      0 --:--:-- --:--:-- --:--:-- 10906\n"
     ]
    }
   ],
   "source": [
    "! curl -O http://www.cl.ecei.tohoku.ac.jp/nlp100/data/nlp.txt"
   ]
  },
  {
   "cell_type": "markdown",
   "metadata": {},
   "source": [
    "curl -L -O http://nlp.stanford.edu/software/stanford-corenlp-full-2016-10-31.zip\n",
    "\n",
    "unzip stanford-corenlp-full-2016-10-31.zip\n",
    "\n",
    "java -mx5g -cp \"stanford-corenlp-full-2016-10-31/*\" edu.stanford.nlp.pipeline.StanfordCoreNLP -file nlp.txt"
   ]
  },
  {
   "cell_type": "code",
   "execution_count": 3,
   "metadata": {
    "collapsed": false
   },
   "outputs": [
    {
     "name": "stdout",
     "output_type": "stream",
     "text": [
      "Collecting lxml\n",
      "  Downloading lxml-4.1.1-cp35-cp35m-macosx_10_6_intel.macosx_10_9_intel.macosx_10_9_x86_64.macosx_10_10_intel.macosx_10_10_x86_64.whl (8.7MB)\n",
      "\u001b[K    100% |████████████████████████████████| 8.7MB 51kB/s eta 0:00:011\n",
      "\u001b[?25hInstalling collected packages: lxml\n",
      "Successfully installed lxml-4.1.1\n"
     ]
    }
   ],
   "source": [
    "!pip install lxml"
   ]
  },
  {
   "cell_type": "code",
   "execution_count": 28,
   "metadata": {
    "collapsed": false
   },
   "outputs": [
    {
     "name": "stdout",
     "output_type": "stream",
     "text": [
      "Overwriting q53.py\n"
     ]
    }
   ],
   "source": [
    "%%file q53.py\n",
    "import sys\n",
    "\n",
    "from lxml import etree\n",
    "\n",
    "\n",
    "tree = etree.parse(sys.stdin)    # ファイル名文字列を渡してもOK\n",
    "for word in tree.xpath('/root/document/sentences/sentence/tokens/token/word'):\n",
    "    print(word.text)"
   ]
  },
  {
   "cell_type": "code",
   "execution_count": 29,
   "metadata": {
    "collapsed": false
   },
   "outputs": [
    {
     "name": "stdout",
     "output_type": "stream",
     "text": [
      "Natural\r\n",
      "language\r\n",
      "processing\r\n",
      "From\r\n",
      "Wikipedia\r\n",
      ",\r\n",
      "the\r\n",
      "free\r\n",
      "encyclopedia\r\n",
      "Natural\r\n"
     ]
    }
   ],
   "source": [
    "!python q53.py < nlp.txt.out | head"
   ]
  },
  {
   "cell_type": "markdown",
   "metadata": {},
   "source": [
    "## 54. 品詞タグ付け\n",
    "Stanford Core NLPの解析結果XMLを読み込み，単語，レンマ，品詞をタブ区切り形式で出力せよ．"
   ]
  },
  {
   "cell_type": "code",
   "execution_count": 24,
   "metadata": {
    "collapsed": false
   },
   "outputs": [
    {
     "name": "stdout",
     "output_type": "stream",
     "text": [
      "Overwriting q54.py\n"
     ]
    }
   ],
   "source": [
    "%%file q54.py\n",
    "import sys\n",
    "\n",
    "from lxml import etree\n",
    "tree = etree.parse(sys.stdin)\n",
    "elems = ['word', 'lemma', 'POS']\n",
    "\n",
    "for token in tree.xpath('//token'):  # /root/document/sentences/sentence/tokens/token/wordと同じ\n",
    "    for elem in elems:\n",
    "        print(token.findtext(elem), end='\\t')\n",
    "    print()"
   ]
  },
  {
   "cell_type": "code",
   "execution_count": 25,
   "metadata": {
    "collapsed": false
   },
   "outputs": [
    {
     "name": "stdout",
     "output_type": "stream",
     "text": [
      "Natural\tnatural\tJJ\t\r\n",
      "language\tlanguage\tNN\t\r\n",
      "processing\tprocessing\tNN\t\r\n",
      "From\tfrom\tIN\t\r\n",
      "Wikipedia\tWikipedia\tNNP\t\r\n",
      ",\t,\t,\t\r\n",
      "the\tthe\tDT\t\r\n",
      "free\tfree\tJJ\t\r\n",
      "encyclopedia\tencyclopedia\tNN\t\r\n",
      "Natural\tnatural\tJJ\t\r\n",
      "Exception ignored in: <_io.TextIOWrapper name='<stdout>' mode='w' encoding='UTF-8'>\r\n",
      "BrokenPipeError: [Errno 32] Broken pipe\r\n"
     ]
    }
   ],
   "source": [
    "!python q54.py < nlp.txt.out | head"
   ]
  },
  {
   "cell_type": "code",
   "execution_count": null,
   "metadata": {
    "collapsed": true
   },
   "outputs": [],
   "source": []
  }
 ],
 "metadata": {
  "anaconda-cloud": {},
  "kernelspec": {
   "display_name": "Python [default]",
   "language": "python",
   "name": "python3"
  },
  "language_info": {
   "codemirror_mode": {
    "name": "ipython",
    "version": 3
   },
   "file_extension": ".py",
   "mimetype": "text/x-python",
   "name": "python",
   "nbconvert_exporter": "python",
   "pygments_lexer": "ipython3",
   "version": "3.5.2"
  }
 },
 "nbformat": 4,
 "nbformat_minor": 2
}
