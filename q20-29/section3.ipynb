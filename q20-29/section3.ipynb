{
 "cells": [
  {
   "cell_type": "markdown",
   "metadata": {},
   "source": [
    "# 第3章: 正規表現\n",
    "---\n",
    "Wikipediaの記事を以下のフォーマットで書き出したファイル[jawiki-country.json.gz](http://www.cl.ecei.tohoku.ac.jp/nlp100/data/jawiki-country.json.gz)がある．\n",
    "- 1行に1記事の情報がJSON形式で格納される\n",
    "- 各行には記事名が\"title\"キーに，記事本文が\"text\"キーの辞書オブジェクトに格納され，そのオブジェクトがJSON形式で書き出される\n",
    "- ファイル全体はgzipで圧縮される\n",
    "\n",
    "以下の処理を行うプログラムを作成せよ．"
   ]
  },
  {
   "cell_type": "markdown",
   "metadata": {},
   "source": [
    "## 20. JSONデータの読み込み\n",
    "Wikipedia記事のJSONファイルを読み込み，「イギリス」に関する記事本文を表示せよ．問題21-29では，ここで抽出した記事本文に対して実行せよ．"
   ]
  },
  {
   "cell_type": "code",
   "execution_count": 1,
   "metadata": {
    "collapsed": false
   },
   "outputs": [
    {
     "name": "stdout",
     "output_type": "stream",
     "text": [
      "--2017-02-01 18:14:07--  http://www.cl.ecei.tohoku.ac.jp/nlp100/data/jawiki-country.json.gz\n",
      "Resolving www.cl.ecei.tohoku.ac.jp... 130.34.192.83\n",
      "Connecting to www.cl.ecei.tohoku.ac.jp|130.34.192.83|:80... connected.\n",
      "HTTP request sent, awaiting response... 200 OK\n",
      "Length: 3605822 (3.4M) [application/x-gzip]\n",
      "Saving to: 'jawiki-country.json.gz'\n",
      "\n",
      "jawiki-country.json 100%[===================>]   3.44M  5.95MB/s    in 0.6s    \n",
      "\n",
      "2017-02-01 18:14:08 (5.95 MB/s) - 'jawiki-country.json.gz' saved [3605822/3605822]\n",
      "\n"
     ]
    }
   ],
   "source": [
    "!wget 'http://www.cl.ecei.tohoku.ac.jp/nlp100/data/jawiki-country.json.gz'"
   ]
  },
  {
   "cell_type": "code",
   "execution_count": 2,
   "metadata": {
    "collapsed": false
   },
   "outputs": [
    {
     "name": "stdout",
     "output_type": "stream",
     "text": [
      "Overwriting q20.py\n"
     ]
    }
   ],
   "source": [
    "%%file q20.py\n",
    "import json\n",
    "import sys\n",
    "\n",
    "\n",
    "for line in sys.stdin:\n",
    "    wiki_dict = json.loads(line)\n",
    "    if wiki_dict['title'] == 'イギリス':\n",
    "        print(wiki_dict.get('text'))\n"
   ]
  },
  {
   "cell_type": "code",
   "execution_count": 4,
   "metadata": {
    "collapsed": false
   },
   "outputs": [],
   "source": [
    "!gzcat jawiki-country.json.gz | python q20.py > uk.txt"
   ]
  },
  {
   "cell_type": "code",
   "execution_count": 5,
   "metadata": {
    "collapsed": false
   },
   "outputs": [
    {
     "name": "stdout",
     "output_type": "stream",
     "text": [
      "{{redirect|UK}}\r\n",
      "{{基礎情報 国\r\n",
      "|略名 = イギリス\r\n",
      "|日本語国名 = グレートブリテン及び北アイルランド連合王国\r\n",
      "|公式国名 = {{lang|en|United Kingdom of Great Britain and Northern Ireland}}<ref>英語以外での正式国名:<br/>\r\n",
      "*{{lang|gd|An Rìoghachd Aonaichte na Breatainn Mhòr agus Eirinn mu Thuath}}（[[スコットランド・ゲール語]]）<br/>\r\n",
      "*{{lang|cy|Teyrnas Gyfunol Prydain Fawr a Gogledd Iwerddon}}（[[ウェールズ語]]）<br/>\r\n",
      "*{{lang|ga|Ríocht Aontaithe na Breataine Móire agus Tuaisceart na hÉireann}}（[[アイルランド語]]）<br/>\r\n",
      "*{{lang|kw|An Rywvaneth Unys a Vreten Veur hag Iwerdhon Glédh}}（[[コーンウォール語]]）<br/>\r\n",
      "*{{lang|sco|Unitit Kinrick o Great Breetain an Northren Ireland}}（[[スコットランド語]]）<br/>\r\n"
     ]
    }
   ],
   "source": [
    "!head uk.txt"
   ]
  },
  {
   "cell_type": "markdown",
   "metadata": {},
   "source": [
    "## 21. カテゴリ名を含む行を抽出\n",
    "記事中でカテゴリ名を宣言している行を抽出せよ．"
   ]
  },
  {
   "cell_type": "code",
   "execution_count": 26,
   "metadata": {
    "collapsed": false
   },
   "outputs": [
    {
     "name": "stdout",
     "output_type": "stream",
     "text": [
      "Overwriting q21.py\n"
     ]
    }
   ],
   "source": [
    "%%file q21.py\n",
    "import sys\n",
    "\n",
    "\n",
    "for line in sys.stdin:\n",
    "    lowered = line.lower()\n",
    "    if lowered.startswith('[[category'):\n",
    "        print(line.rstrip())\n"
   ]
  },
  {
   "cell_type": "code",
   "execution_count": 10,
   "metadata": {
    "collapsed": false
   },
   "outputs": [
    {
     "name": "stdout",
     "output_type": "stream",
     "text": [
      "[[Category:イギリス|*]]\r\n",
      "[[Category:英連邦王国|*]]\r\n",
      "[[Category:G8加盟国]]\r\n",
      "[[Category:欧州連合加盟国]]\r\n",
      "[[Category:海洋国家]]\r\n",
      "[[Category:君主国]]\r\n",
      "[[Category:島国|くれいとふりてん]]\r\n",
      "[[Category:1801年に設立された州・地域]]\r\n"
     ]
    }
   ],
   "source": [
    "!python q21.py < uk.txt"
   ]
  },
  {
   "cell_type": "markdown",
   "metadata": {},
   "source": [
    "## 22. カテゴリ名の抽出\n",
    "記事のカテゴリ名を（行単位ではなく名前で）抽出せよ．"
   ]
  },
  {
   "cell_type": "code",
   "execution_count": 25,
   "metadata": {
    "collapsed": false
   },
   "outputs": [
    {
     "name": "stdout",
     "output_type": "stream",
     "text": [
      "Overwriting q22.py\n"
     ]
    }
   ],
   "source": [
    "%%file q22.py\n",
    "import sys\n",
    "\n",
    "\n",
    "for line in sys.stdin:\n",
    "    print(line.lower().lstrip(\"[[category:\").rstrip(\"]]\\n\"))\n"
   ]
  },
  {
   "cell_type": "code",
   "execution_count": 24,
   "metadata": {
    "collapsed": false
   },
   "outputs": [
    {
     "name": "stdout",
     "output_type": "stream",
     "text": [
      "イギリス|*\r\n",
      "英連邦王国|*\r\n",
      "8加盟国\r\n",
      "欧州連合加盟国\r\n",
      "海洋国家\r\n",
      "君主国\r\n",
      "島国|くれいとふりてん\r\n",
      "1801年に設立された州・地域\r\n"
     ]
    }
   ],
   "source": [
    "!python q21.py < uk.txt | python q22.py"
   ]
  },
  {
   "cell_type": "markdown",
   "metadata": {},
   "source": [
    "## 23. セクション構造\n",
    "記事中に含まれるセクション名とそのレベル（例えば\"== セクション名 ==\"なら1）を表示せよ．"
   ]
  },
  {
   "cell_type": "code",
   "execution_count": 40,
   "metadata": {
    "collapsed": false
   },
   "outputs": [
    {
     "name": "stdout",
     "output_type": "stream",
     "text": [
      "Overwriting q23.py\n"
     ]
    }
   ],
   "source": [
    "%%file q23.py\n",
    "# ==国名== → 国名 レベル1 \n",
    "import sys\n",
    "\n",
    "for line in sys.stdin:\n",
    "    if line.startswith('=='):\n",
    "        sec_name = line.strip('= \\n')\n",
    "        level = int(line.count('=')/2 - 1)\n",
    "        print(sec_name, 'レベル'+str(level))\n"
   ]
  },
  {
   "cell_type": "code",
   "execution_count": 39,
   "metadata": {
    "collapsed": false
   },
   "outputs": [
    {
     "name": "stdout",
     "output_type": "stream",
     "text": [
      "国名 レベル1\r\n",
      "歴史 レベル1\r\n",
      "地理 レベル1\r\n",
      "気候 レベル2\r\n",
      "政治 レベル1\r\n",
      "外交と軍事 レベル1\r\n",
      "地方行政区分 レベル1\r\n",
      "主要都市 レベル2\r\n",
      "科学技術 レベル1\r\n",
      "経済 レベル1\r\n"
     ]
    }
   ],
   "source": [
    "!python q23.py < uk.txt | head"
   ]
  },
  {
   "cell_type": "markdown",
   "metadata": {},
   "source": [
    "## 24. ファイル参照の抽出\n",
    "記事から参照されているメディアファイルをすべて抜き出せ．"
   ]
  },
  {
   "cell_type": "code",
   "execution_count": 4,
   "metadata": {
    "collapsed": false
   },
   "outputs": [
    {
     "name": "stdout",
     "output_type": "stream",
     "text": [
      "Overwriting q24.py\n"
     ]
    }
   ],
   "source": [
    "%%file q24.py\n",
    "# [[File:Battle of Waterloo 1815.PNG| のようになっている\n",
    "import re\n",
    "import sys\n",
    "\n",
    "pat = re.compile(r'([fF]ile:|ファイル:)(?P<filename>.+?)\\|')\n",
    "for line in sys.stdin:\n",
    "    for m in pat.finditer(line):\n",
    "        print(m.group('filename'))\n"
   ]
  },
  {
   "cell_type": "code",
   "execution_count": 2,
   "metadata": {
    "collapsed": false
   },
   "outputs": [
    {
     "name": "stdout",
     "output_type": "stream",
     "text": [
      "Royal Coat of Arms of the United Kingdom.svg\r\n",
      "Battle of Waterloo 1815.PNG\r\n",
      "The British Empire.png\r\n",
      "Uk topo en.jpg\r\n",
      "BenNevis2005.jpg\r\n",
      "Elizabeth II greets NASA GSFC employees, May 8, 2007 edit.jpg\r\n",
      "Palace of Westminster, London - Feb 2007.jpg\r\n",
      "David Cameron and Barack Obama at the G20 Summit in Toronto.jpg\r\n",
      "Soldiers Trooping the Colour, 16th June 2007.jpg\r\n",
      "Scotland Parliament Holyrood.jpg\r\n"
     ]
    }
   ],
   "source": [
    "!python q24.py < uk.txt | head"
   ]
  },
  {
   "cell_type": "markdown",
   "metadata": {},
   "source": [
    "## 25. テンプレートの抽出\n",
    "記事中に含まれる「基礎情報」テンプレートのフィールド名と値を抽出し，辞書オブジェクトとして格納せよ．"
   ]
  },
  {
   "cell_type": "code",
   "execution_count": 5,
   "metadata": {
    "collapsed": false
   },
   "outputs": [
    {
     "name": "stdout",
     "output_type": "stream",
     "text": [
      "Overwriting q25.py\n"
     ]
    }
   ],
   "source": [
    "%%file q25.py\n",
    "\"\"\"\n",
    "{{基礎情報 国\n",
    "|略名 = イギリス\n",
    "|日本語国名 = グレートブリテン及び北アイルランド連合王国\n",
    "|公式国名 = {{lang|en|United Kingdom of Great Britain and Northern Ireland}}<ref>英語以外での正式国名:<br/>\n",
    "*{{lang|gd|An Rìoghachd Aonaichte na Breatainn Mhòr agus Eirinn mu Thuath}}（[[スコットランド・ゲール語]]）<br/>\n",
    "*{{lang|cy|Teyrnas Gyfunol Prydain Fawr a Gogledd Iwerddon}}（[[ウェールズ語]]）<br/>\n",
    "\"\"\"\n",
    "import sys\n",
    "import json\n",
    "\n",
    "\n",
    "def main():\n",
    "    dic = extract_baseinf(sys.stdin)\n",
    "    sys.stdout.write(json.dumps(dic, ensure_ascii=False))\n",
    "    for k, v in dic.items():\n",
    "        print(k, v, file=sys.stderr)\n",
    "\n",
    "\n",
    "def extract_baseinf(fi):\n",
    "    baseinf = {}\n",
    "    isbaseinf = False\n",
    "    for line in fi:\n",
    "        if isbaseinf:\n",
    "            if line.startswith('}}'):\n",
    "                return baseinf\n",
    "\n",
    "            elif line[0] == '|':\n",
    "                templis = line.strip('|\\n').split('=')\n",
    "                key = templis[0].strip()\n",
    "                value = \"=\".join(templis[1:])\n",
    "                baseinf[key] = value\n",
    "                \n",
    "            else:\n",
    "                baseinf[key] += '\\n{}'.format(line.rstrip('\\n'))\n",
    "\n",
    "        elif line.startswith('{{基礎情報'):\n",
    "            isbaseinf = True\n",
    "\n",
    "\n",
    "if __name__ == '__main__':\n",
    "    main()\n"
   ]
  },
  {
   "cell_type": "code",
   "execution_count": 18,
   "metadata": {
    "collapsed": false,
    "scrolled": false
   },
   "outputs": [
    {
     "name": "stdout",
     "output_type": "stream",
     "text": [
      "日本語国名  グレートブリテン及び北アイルランド連合王国\r\n",
      "確立年月日4  [[1927年]]\r\n",
      "GDP順位MER  5\r\n",
      "GDP値元  1兆5478億<ref name=\"imf-statistics-gdp\">[http://www.imf.org/external/pubs/ft/weo/2012/02/weodata/weorept.aspx?pr.x=70&pr.y=13&sy=2010&ey=2012&scsm=1&ssd=1&sort=country&ds=.&br=1&c=112&s=NGDP%2CNGDPD%2CPPPGDP%2CPPPPC&grp=0&a= IMF>Data and Statistics>World Economic Outlook Databases>By Countrise>United Kingdom]</ref>\r\n",
      "通貨  [[スターリング・ポンド|UKポンド]] (&pound;)\r\n",
      "GDP統計年元  2012\r\n",
      "面積順位  76\r\n",
      "ISO 3166-1  GB / GBR\r\n",
      "元首等肩書  [[イギリスの君主|女王]]\r\n",
      "略名  イギリス\r\n",
      "GDP値MER  2兆4337億<ref name=\"imf-statistics-gdp\" />\r\n",
      "注記  <references />\r\n",
      "人口統計年  2011\r\n",
      "国章画像  [[ファイル:Royal Coat of Arms of the United Kingdom.svg|85px|イギリスの国章]]\r\n",
      "確立年月日2  [[1707年]]\r\n",
      "GDP/人  36,727<ref name=\"imf-statistics-gdp\" />\r\n",
      "確立形態1  [[イングランド王国]]／[[スコットランド王国]]<br />（両国とも[[連合法 (1707年)|1707年連合法]]まで）\r\n",
      "面積値  244,820\r\n",
      "確立年月日1  [[927年]]／[[843年]]\r\n",
      "建国形態  建国\r\n",
      "GDP値  2兆3162億<ref name=\"imf-statistics-gdp\" />\r\n",
      "国章リンク  （[[イギリスの国章|国章]]）\r\n",
      "水面積率  1.3%\r\n",
      "人口順位  22\r\n",
      "通貨コード  GBP\r\n",
      "公式国名  {{lang|en|United Kingdom of Great Britain and Northern Ireland}}<ref>英語以外での正式国名:<br/>\r\n",
      "*{{lang|gd|An Rìoghachd Aonaichte na Breatainn Mhòr agus Eirinn mu Thuath}}（[[スコットランド・ゲール語]]）<br/>\r\n",
      "*{{lang|cy|Teyrnas Gyfunol Prydain Fawr a Gogledd Iwerddon}}（[[ウェールズ語]]）<br/>\r\n",
      "*{{lang|ga|Ríocht Aontaithe na Breataine Móire agus Tuaisceart na hÉireann}}（[[アイルランド語]]）<br/>\r\n",
      "*{{lang|kw|An Rywvaneth Unys a Vreten Veur hag Iwerdhon Glédh}}（[[コーンウォール語]]）<br/>\r\n",
      "*{{lang|sco|Unitit Kinrick o Great Breetain an Northren Ireland}}（[[スコットランド語]]）<br/>\r\n",
      "**{{lang|sco|Claught Kängrick o Docht Brätain an Norlin Airlann}}、{{lang|sco|Unitet Kängdom o Great Brittain an Norlin Airlann}}（アルスター・スコットランド語）</ref>\r\n",
      "位置画像  Location_UK_EU_Europe_001.svg\r\n",
      "確立形態3  [[グレートブリテン及びアイルランド連合王国]]建国<br />（[[連合法 (1800年)|1800年連合法]]）\r\n",
      "首相等氏名  [[デーヴィッド・キャメロン]]\r\n",
      "GDP統計年  2012\r\n",
      "面積大きさ  1 E11\r\n",
      "人口密度値  246\r\n",
      "夏時間  +1\r\n",
      "GDP順位  6\r\n",
      "国際電話番号  44\r\n",
      "時間帯  ±0\r\n",
      "人口値  63,181,775<ref>[http://esa.un.org/unpd/wpp/Excel-Data/population.htm United Nations Department of Economic and Social Affairs>Population Division>Data>Population>Total Population]</ref>\r\n",
      "元首等氏名  [[エリザベス2世]]\r\n",
      "首相等肩書  [[イギリスの首相|首相]]\r\n",
      "首都  [[ロンドン]]\r\n",
      "国歌  [[女王陛下万歳|神よ女王陛下を守り給え]]\r\n",
      "標語  {{lang|fr|Dieu et mon droit}}<br/>（[[フランス語]]:神と私の権利）\r\n",
      "ccTLD  [[.uk]] / [[.gb]]<ref>使用は.ukに比べ圧倒的少数。</ref>\r\n",
      "国旗画像  Flag of the United Kingdom.svg\r\n",
      "確立形態4  現在の国号「'''グレートブリテン及び北アイルランド連合王国'''」に変更\r\n",
      "確立年月日3  [[1801年]]\r\n",
      "人口大きさ  1 E7\r\n",
      "確立形態2  [[グレートブリテン王国]]建国<br />（[[連合法 (1707年)|1707年連合法]]）\r\n",
      "公用語  [[英語]]（事実上）\r\n",
      "最大都市  ロンドン\r\n",
      "GDP統計年MER  2012\r\n"
     ]
    }
   ],
   "source": [
    "!python q25.py < uk.txt > uk_baseinf.dict.json"
   ]
  },
  {
   "cell_type": "markdown",
   "metadata": {},
   "source": [
    "## 26. 強調マークアップの除去\n",
    "25の処理時に，テンプレートの値からMediaWikiの強調マークアップ（弱い強調，強調，強い強調のすべて）を除去してテキストに変換せよ（参考: [マークアップ早見表](https://ja.wikipedia.org/wiki/Help:%E6%97%A9%E8%A6%8B%E8%A1%A8)）．"
   ]
  },
  {
   "cell_type": "code",
   "execution_count": 41,
   "metadata": {
    "collapsed": false
   },
   "outputs": [
    {
     "name": "stdout",
     "output_type": "stream",
     "text": [
      "Overwriting q26.py\n"
     ]
    }
   ],
   "source": [
    "%%file q26.py\n",
    "\"\"\"\n",
    "'が2, 3, 5個連続していた場合、'を取り除く\n",
    "\"\"\"\n",
    "import json\n",
    "import re\n",
    "import sys\n",
    "from pprint import pprint\n",
    "\n",
    "def main():\n",
    "    dic = json.loads(sys.stdin.read())\n",
    "    dic = no_emphasis(dic)\n",
    "    pprint(dic)\n",
    "    # sys.stdout.write(json.dumps(dic))\n",
    "\n",
    "def no_emphasis(dic):\n",
    "    for key, value in dic.items():\n",
    "        for n in (5, 3, 2):\n",
    "            eliminated = value.split(\"'\" * n)\n",
    "            div, mod = divmod(len(eliminated), 2)\n",
    "            if div > 0 and mod != 0:\n",
    "                value = ''.join(eliminated)\n",
    "                dic[key] = value\n",
    "                break\n",
    "        # print(key, value,file=sys.stderr)\n",
    "    return dic\n",
    "\n",
    "if __name__ == '__main__':\n",
    "    main()\n"
   ]
  },
  {
   "cell_type": "code",
   "execution_count": 42,
   "metadata": {
    "collapsed": false,
    "scrolled": false
   },
   "outputs": [
    {
     "name": "stdout",
     "output_type": "stream",
     "text": [
      "{'GDP/人': ' 36,727<ref name=\"imf-statistics-gdp\" />',\r\n",
      " 'GDP値': ' 2兆3162億<ref name=\"imf-statistics-gdp\" />',\r\n",
      " 'GDP値MER': ' 2兆4337億<ref name=\"imf-statistics-gdp\" />',\r\n",
      " 'GDP値元': ' 1兆5478億<ref '\r\n",
      "          'name=\"imf-statistics-gdp\">[http://www.imf.org/external/pubs/ft/weo/2012/02/weodata/weorept.aspx?pr.x=70&pr.y=13&sy=2010&ey=2012&scsm=1&ssd=1&sort=country&ds=.&br=1&c=112&s=NGDP%2CNGDPD%2CPPPGDP%2CPPPPC&grp=0&a= '\r\n",
      "          'IMF>Data and Statistics>World Economic Outlook Databases>By '\r\n",
      "          'Countrise>United Kingdom]</ref>',\r\n",
      " 'GDP統計年': ' 2012',\r\n",
      " 'GDP統計年MER': ' 2012',\r\n",
      " 'GDP統計年元': ' 2012',\r\n",
      " 'GDP順位': ' 6',\r\n",
      " 'GDP順位MER': ' 5',\r\n",
      " 'ISO 3166-1': ' GB / GBR',\r\n",
      " 'ccTLD': ' [[.uk]] / [[.gb]]<ref>使用は.ukに比べ圧倒的少数。</ref>',\r\n",
      " '人口値': ' 63,181,775<ref>[http://esa.un.org/unpd/wpp/Excel-Data/population.htm '\r\n",
      "        'United Nations Department of Economic and Social Affairs>Population '\r\n",
      "        'Division>Data>Population>Total Population]</ref>',\r\n",
      " '人口大きさ': ' 1 E7',\r\n",
      " '人口密度値': ' 246',\r\n",
      " '人口統計年': ' 2011',\r\n",
      " '人口順位': ' 22',\r\n",
      " '位置画像': ' Location_UK_EU_Europe_001.svg',\r\n",
      " '元首等氏名': ' [[エリザベス2世]]',\r\n",
      " '元首等肩書': ' [[イギリスの君主|女王]]',\r\n",
      " '公式国名': ' {{lang|en|United Kingdom of Great Britain and Northern '\r\n",
      "         'Ireland}}<ref>英語以外での正式国名:<br/>\\n'\r\n",
      "         '*{{lang|gd|An Rìoghachd Aonaichte na Breatainn Mhòr agus Eirinn mu '\r\n",
      "         'Thuath}}（[[スコットランド・ゲール語]]）<br/>\\n'\r\n",
      "         '*{{lang|cy|Teyrnas Gyfunol Prydain Fawr a Gogledd '\r\n",
      "         'Iwerddon}}（[[ウェールズ語]]）<br/>\\n'\r\n",
      "         '*{{lang|ga|Ríocht Aontaithe na Breataine Móire agus Tuaisceart na '\r\n",
      "         'hÉireann}}（[[アイルランド語]]）<br/>\\n'\r\n",
      "         '*{{lang|kw|An Rywvaneth Unys a Vreten Veur hag Iwerdhon '\r\n",
      "         'Glédh}}（[[コーンウォール語]]）<br/>\\n'\r\n",
      "         '*{{lang|sco|Unitit Kinrick o Great Breetain an Northren '\r\n",
      "         'Ireland}}（[[スコットランド語]]）<br/>\\n'\r\n",
      "         '**{{lang|sco|Claught Kängrick o Docht Brätain an Norlin '\r\n",
      "         'Airlann}}、{{lang|sco|Unitet Kängdom o Great Brittain an Norlin '\r\n",
      "         'Airlann}}（アルスター・スコットランド語）</ref>',\r\n",
      " '公用語': ' [[英語]]（事実上）',\r\n",
      " '国旗画像': ' Flag of the United Kingdom.svg',\r\n",
      " '国歌': ' [[女王陛下万歳|神よ女王陛下を守り給え]]',\r\n",
      " '国章リンク': ' （[[イギリスの国章|国章]]）',\r\n",
      " '国章画像': ' [[ファイル:Royal Coat of Arms of the United Kingdom.svg|85px|イギリスの国章]]',\r\n",
      " '国際電話番号': ' 44',\r\n",
      " '夏時間': ' +1',\r\n",
      " '建国形態': ' 建国',\r\n",
      " '日本語国名': ' グレートブリテン及び北アイルランド連合王国',\r\n",
      " '時間帯': ' ±0',\r\n",
      " '最大都市': ' ロンドン',\r\n",
      " '標語': ' {{lang|fr|Dieu et mon droit}}<br/>（[[フランス語]]:神と私の権利）',\r\n",
      " '水面積率': ' 1.3%',\r\n",
      " '注記': ' <references />',\r\n",
      " '略名': ' イギリス',\r\n",
      " '確立年月日1': ' [[927年]]／[[843年]]',\r\n",
      " '確立年月日2': ' [[1707年]]',\r\n",
      " '確立年月日3': ' [[1801年]]',\r\n",
      " '確立年月日4': ' [[1927年]]',\r\n",
      " '確立形態1': ' [[イングランド王国]]／[[スコットランド王国]]<br />（両国とも[[連合法 (1707年)|1707年連合法]]まで）',\r\n",
      " '確立形態2': ' [[グレートブリテン王国]]建国<br />（[[連合法 (1707年)|1707年連合法]]）',\r\n",
      " '確立形態3': ' [[グレートブリテン及びアイルランド連合王国]]建国<br />（[[連合法 (1800年)|1800年連合法]]）',\r\n",
      " '確立形態4': ' 現在の国号「グレートブリテン及び北アイルランド連合王国」に変更',\r\n",
      " '通貨': ' [[スターリング・ポンド|UKポンド]] (&pound;)',\r\n",
      " '通貨コード': ' GBP',\r\n",
      " '面積値': ' 244,820',\r\n",
      " '面積大きさ': ' 1 E11',\r\n",
      " '面積順位': ' 76',\r\n",
      " '首相等氏名': ' [[デーヴィッド・キャメロン]]',\r\n",
      " '首相等肩書': ' [[イギリスの首相|首相]]',\r\n",
      " '首都': ' [[ロンドン]]'}\r\n"
     ]
    }
   ],
   "source": [
    "!python q26.py < uk_baseinf.dict.json"
   ]
  },
  {
   "cell_type": "markdown",
   "metadata": {
    "collapsed": true
   },
   "source": [
    "## 27. 内部リンクの除去\n",
    "26の処理に加えて，テンプレートの値からMediaWikiの内部リンクマークアップを除去し，テキストに変換せよ（参考: [マークアップ早見表](https://ja.wikipedia.org/wiki/Help:%E6%97%A9%E8%A6%8B%E8%A1%A8)）．"
   ]
  },
  {
   "cell_type": "code",
   "execution_count": 69,
   "metadata": {
    "collapsed": false
   },
   "outputs": [
    {
     "name": "stdout",
     "output_type": "stream",
     "text": [
      "Overwriting q27.py\n"
     ]
    }
   ],
   "source": [
    "%%file q27.py\n",
    "\"\"\"\n",
    "[[記事名]]\n",
    "[[記事名|表示文字]]\n",
    "[[記事名#節名|表示文字]] \n",
    "\"\"\"\n",
    "import json\n",
    "import re\n",
    "import sys\n",
    "from pprint import pprint\n",
    "\n",
    "\n",
    "from q26 import no_emphasis\n",
    "\n",
    "\n",
    "def main():\n",
    "    dic = json.loads(sys.stdin.read())\n",
    "    dic = no_emphasis(dic)\n",
    "    dic = eliminate_link(dic)\n",
    "    pprint(dic)\n",
    "    # sys.stdout.write(json.dumps(dic))\n",
    "\n",
    "\n",
    "def eliminate_link(dic):\n",
    "    pat = re.compile(r\"\"\"\n",
    "        \\[\\[        # [[\n",
    "        ([^|]+\\|)*  # 記事名|　この部分は無かったり繰り返されたりする\n",
    "        ([^]]+)\\]\\] # 表示文字 patにマッチした部分をこいつに置換する\n",
    "    \"\"\", re.VERBOSE)\n",
    "    for key, value in dic.items():\n",
    "        value = pat.sub(r'\\2', value)\n",
    "        dic[key] = value\n",
    "    return dic\n",
    "\n",
    "if __name__ == '__main__':\n",
    "    main()\n"
   ]
  },
  {
   "cell_type": "code",
   "execution_count": 70,
   "metadata": {
    "collapsed": false,
    "scrolled": false
   },
   "outputs": [
    {
     "name": "stdout",
     "output_type": "stream",
     "text": [
      "{'GDP/人': ' 36,727<ref name=\"imf-statistics-gdp\" />',\r\n",
      " 'GDP値': ' 2兆3162億<ref name=\"imf-statistics-gdp\" />',\r\n",
      " 'GDP値MER': ' 2兆4337億<ref name=\"imf-statistics-gdp\" />',\r\n",
      " 'GDP値元': ' 1兆5478億<ref '\r\n",
      "          'name=\"imf-statistics-gdp\">[http://www.imf.org/external/pubs/ft/weo/2012/02/weodata/weorept.aspx?pr.x=70&pr.y=13&sy=2010&ey=2012&scsm=1&ssd=1&sort=country&ds=.&br=1&c=112&s=NGDP%2CNGDPD%2CPPPGDP%2CPPPPC&grp=0&a= '\r\n",
      "          'IMF>Data and Statistics>World Economic Outlook Databases>By '\r\n",
      "          'Countrise>United Kingdom]</ref>',\r\n",
      " 'GDP統計年': ' 2012',\r\n",
      " 'GDP統計年MER': ' 2012',\r\n",
      " 'GDP統計年元': ' 2012',\r\n",
      " 'GDP順位': ' 6',\r\n",
      " 'GDP順位MER': ' 5',\r\n",
      " 'ISO 3166-1': ' GB / GBR',\r\n",
      " 'ccTLD': ' .uk / .gb<ref>使用は.ukに比べ圧倒的少数。</ref>',\r\n",
      " '人口値': ' 63,181,775<ref>[http://esa.un.org/unpd/wpp/Excel-Data/population.htm '\r\n",
      "        'United Nations Department of Economic and Social Affairs>Population '\r\n",
      "        'Division>Data>Population>Total Population]</ref>',\r\n",
      " '人口大きさ': ' 1 E7',\r\n",
      " '人口密度値': ' 246',\r\n",
      " '人口統計年': ' 2011',\r\n",
      " '人口順位': ' 22',\r\n",
      " '位置画像': ' Location_UK_EU_Europe_001.svg',\r\n",
      " '元首等氏名': ' エリザベス2世',\r\n",
      " '元首等肩書': ' 女王',\r\n",
      " '公式国名': ' {{lang|en|United Kingdom of Great Britain and Northern '\r\n",
      "         'Ireland}}<ref>英語以外での正式国名:<br/>\\n'\r\n",
      "         '*{{lang|gd|An Rìoghachd Aonaichte na Breatainn Mhòr agus Eirinn mu '\r\n",
      "         'Thuath}}（Unitit Kinrick o Great Breetain an Northren '\r\n",
      "         'Ireland}}（[[スコットランド語）<br/>\\n'\r\n",
      "         '**{{lang|sco|Claught Kängrick o Docht Brätain an Norlin '\r\n",
      "         'Airlann}}、{{lang|sco|Unitet Kängdom o Great Brittain an Norlin '\r\n",
      "         'Airlann}}（アルスター・スコットランド語）</ref>',\r\n",
      " '公用語': ' 英語（事実上）',\r\n",
      " '国旗画像': ' Flag of the United Kingdom.svg',\r\n",
      " '国歌': ' 神よ女王陛下を守り給え',\r\n",
      " '国章リンク': ' （国章）',\r\n",
      " '国章画像': ' イギリスの国章',\r\n",
      " '国際電話番号': ' 44',\r\n",
      " '夏時間': ' +1',\r\n",
      " '建国形態': ' 建国',\r\n",
      " '日本語国名': ' グレートブリテン及び北アイルランド連合王国',\r\n",
      " '時間帯': ' ±0',\r\n",
      " '最大都市': ' ロンドン',\r\n",
      " '標語': ' {{lang|fr|Dieu et mon droit}}<br/>（フランス語:神と私の権利）',\r\n",
      " '水面積率': ' 1.3%',\r\n",
      " '注記': ' <references />',\r\n",
      " '略名': ' イギリス',\r\n",
      " '確立年月日1': ' 927年／843年',\r\n",
      " '確立年月日2': ' 1707年',\r\n",
      " '確立年月日3': ' 1801年',\r\n",
      " '確立年月日4': ' 1927年',\r\n",
      " '確立形態1': ' 1707年連合法まで）',\r\n",
      " '確立形態2': ' 1707年連合法）',\r\n",
      " '確立形態3': ' 1800年連合法）',\r\n",
      " '確立形態4': ' 現在の国号「グレートブリテン及び北アイルランド連合王国」に変更',\r\n",
      " '通貨': ' UKポンド (&pound;)',\r\n",
      " '通貨コード': ' GBP',\r\n",
      " '面積値': ' 244,820',\r\n",
      " '面積大きさ': ' 1 E11',\r\n",
      " '面積順位': ' 76',\r\n",
      " '首相等氏名': ' デーヴィッド・キャメロン',\r\n",
      " '首相等肩書': ' 首相',\r\n",
      " '首都': ' ロンドン'}\r\n"
     ]
    }
   ],
   "source": [
    "!python q27.py < uk_baseinf.dict.json"
   ]
  },
  {
   "cell_type": "markdown",
   "metadata": {
    "collapsed": true
   },
   "source": [
    "## 28. MediaWikiマークアップの除去\n",
    "27の処理に加えて，テンプレートの値からMediaWikiマークアップを可能な限り除去し，国の基本情報を整形せよ．"
   ]
  },
  {
   "cell_type": "code",
   "execution_count": 37,
   "metadata": {
    "collapsed": false
   },
   "outputs": [
    {
     "name": "stdout",
     "output_type": "stream",
     "text": [
      "Overwriting q28.py\n"
     ]
    }
   ],
   "source": [
    "%%file q28.py\n",
    "import json\n",
    "import sys\n",
    "from pprint import pprint\n",
    "\n",
    "from pypandoc import convert\n",
    "\n",
    "\n",
    "def main():\n",
    "    dic = json.loads(sys.stdin.read())\n",
    "    for key, value in dic.items():\n",
    "        dic[key] = convert(value, 'plain', format='mediawiki').rstrip()\n",
    "    \n",
    "    pprint(dic)\n",
    "\n",
    "if __name__ == '__main__':\n",
    "    main()"
   ]
  },
  {
   "cell_type": "code",
   "execution_count": 38,
   "metadata": {
    "collapsed": false,
    "scrolled": false
   },
   "outputs": [
    {
     "name": "stdout",
     "output_type": "stream",
     "text": [
      "{'GDP/人': '36,727[1]\\n\\n[1]',\r\n",
      " 'GDP値': '2兆3162億[1]\\n\\n[1]',\r\n",
      " 'GDP値MER': '2兆4337億[1]\\n\\n[1]',\r\n",
      " 'GDP値元': '1兆5478億[1]\\n'\r\n",
      "          '\\n'\r\n",
      "          '[1] '\r\n",
      "          '[http://www.imf.org/external/pubs/ft/weo/2012/02/weodata/weorept.aspx?pr.x=70&pr.y=13&sy=2010&ey=2012&scsm=1&ssd=1&sort=country&ds=.&br=1&c=112&s=NGDP%2CNGDPD%2CPPPGDP%2CPPPPC&grp=0&a= '\r\n",
      "          'IMF>Data and Statistics>World Economic Outlook Databases>By '\r\n",
      "          'Countrise>United Kingdom]',\r\n",
      " 'GDP統計年': '2012',\r\n",
      " 'GDP統計年MER': '2012',\r\n",
      " 'GDP統計年元': '2012',\r\n",
      " 'GDP順位': '6',\r\n",
      " 'GDP順位MER': '5',\r\n",
      " 'ISO 3166-1': 'GB\\xa0/\\xa0GBR',\r\n",
      " 'ccTLD': '.uk\\xa0/\\xa0.gb[1]\\n\\n[1] 使用は.ukに比べ圧倒的少数。',\r\n",
      " '人口値': '63,181,775[1]\\n'\r\n",
      "        '\\n'\r\n",
      "        '[1] United Nations Department of Economic and Social '\r\n",
      "        'Affairs>Population Division>Data>Population>Total Population',\r\n",
      " '人口大きさ': '1\\xa0E7',\r\n",
      " '人口密度値': '246',\r\n",
      " '人口統計年': '2011',\r\n",
      " '人口順位': '22',\r\n",
      " '位置画像': 'Location_UK_EU_Europe_001.svg',\r\n",
      " '元首等氏名': 'エリザベス2世',\r\n",
      " '元首等肩書': '女王',\r\n",
      " '公式国名': '[1]\\n'\r\n",
      "         '\\n'\r\n",
      "         '[1] 英語以外での正式国名:\\n'\r\n",
      "         '*（スコットランド・ゲール語）\\n'\r\n",
      "         '*（ウェールズ語）\\n'\r\n",
      "         '*（アイルランド語）\\n'\r\n",
      "         '*（コーンウォール語）\\n'\r\n",
      "         '*（スコットランド語）\\n'\r\n",
      "         '**、（アルスター・スコットランド語）',\r\n",
      " '公用語': '英語（事実上）',\r\n",
      " '国旗画像': 'Flag\\xa0of\\xa0the\\xa0United\\xa0Kingdom.svg',\r\n",
      " '国歌': '神よ女王陛下を守り給え',\r\n",
      " '国章リンク': '（国章）',\r\n",
      " '国章画像': '85px|イギリスの国章',\r\n",
      " '国際電話番号': '44',\r\n",
      " '夏時間': '+1',\r\n",
      " '建国形態': '建国',\r\n",
      " '日本語国名': 'グレートブリテン及び北アイルランド連合王国',\r\n",
      " '時間帯': '±0',\r\n",
      " '最大都市': 'ロンドン',\r\n",
      " '標語': '（フランス語:神と私の権利）',\r\n",
      " '水面積率': '1.3%',\r\n",
      " '注記': '',\r\n",
      " '略名': 'イギリス',\r\n",
      " '確立年月日1': '927年／843年',\r\n",
      " '確立年月日2': '1707年',\r\n",
      " '確立年月日3': '1801年',\r\n",
      " '確立年月日4': '1927年',\r\n",
      " '確立形態1': 'イングランド王国／スコットランド王国\\n（両国とも1707年連合法まで）',\r\n",
      " '確立形態2': 'グレートブリテン王国建国\\n（1707年連合法）',\r\n",
      " '確立形態3': 'グレートブリテン及びアイルランド連合王国建国\\n（1800年連合法）',\r\n",
      " '確立形態4': '現在の国号「グレートブリテン及び北アイルランド連合王国」に変更',\r\n",
      " '通貨': 'UKポンド\\xa0(£)',\r\n",
      " '通貨コード': 'GBP',\r\n",
      " '面積値': '244,820',\r\n",
      " '面積大きさ': '1\\xa0E11',\r\n",
      " '面積順位': '76',\r\n",
      " '首相等氏名': 'デーヴィッド・キャメロン',\r\n",
      " '首相等肩書': '首相',\r\n",
      " '首都': 'ロンドン'}\r\n"
     ]
    }
   ],
   "source": [
    "!python q28.py < uk_baseinf.dict.json"
   ]
  },
  {
   "cell_type": "markdown",
   "metadata": {},
   "source": [
    "## 29. 国旗画像のURLを取得する\n",
    "テンプレートの内容を利用し，国旗画像のURLを取得せよ．（ヒント: [MediaWiki](https://www.mediawiki.org/wiki/API:Main_page/ja) APIの[imageinfo](https://www.mediawiki.org/wiki/API:Properties/ja#imageinfo_.2F_ii)を呼び出して，ファイル参照をURLに変換すればよい）"
   ]
  },
  {
   "cell_type": "code",
   "execution_count": 86,
   "metadata": {
    "collapsed": false
   },
   "outputs": [
    {
     "name": "stdout",
     "output_type": "stream",
     "text": [
      "Overwriting q29.py\n"
     ]
    }
   ],
   "source": [
    "%%file q29.py\n",
    "import sys\n",
    "import json\n",
    "\n",
    "\n",
    "import requests\n",
    "\n",
    "baseinf = json.loads(sys.stdin.read())\n",
    "r = requests.get('https://commons.wikimedia.org/w/api.php',\n",
    "                 {'action': 'query', 'prop': 'imageinfo', 'iiprop': 'url',\n",
    "                  'format': 'json', 'titles': 'File:{}'.format(baseinf['国旗画像'])})\n",
    "data = r.json()\n",
    "print(data['query']['pages']['347935']['imageinfo'][0]['url'])"
   ]
  },
  {
   "cell_type": "code",
   "execution_count": 87,
   "metadata": {
    "collapsed": false
   },
   "outputs": [
    {
     "name": "stdout",
     "output_type": "stream",
     "text": [
      "https://upload.wikimedia.org/wikipedia/commons/a/ae/Flag_of_the_United_Kingdom.svg\r\n"
     ]
    }
   ],
   "source": [
    "!python q29.py < uk_baseinf.dict.json"
   ]
  },
  {
   "cell_type": "code",
   "execution_count": null,
   "metadata": {
    "collapsed": true
   },
   "outputs": [],
   "source": []
  }
 ],
 "metadata": {
  "anaconda-cloud": {},
  "kernelspec": {
   "display_name": "Python [default]",
   "language": "python",
   "name": "python3"
  },
  "language_info": {
   "codemirror_mode": {
    "name": "ipython",
    "version": 3
   },
   "file_extension": ".py",
   "mimetype": "text/x-python",
   "name": "python",
   "nbconvert_exporter": "python",
   "pygments_lexer": "ipython3",
   "version": "3.5.2"
  }
 },
 "nbformat": 4,
 "nbformat_minor": 2
}
