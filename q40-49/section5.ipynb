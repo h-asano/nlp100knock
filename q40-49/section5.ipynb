{
 "cells": [
  {
   "cell_type": "markdown",
   "metadata": {},
   "source": [
    "# 第5章: 係り受け解析\n",
    "---\n",
    "夏目漱石の小説『吾輩は猫である』の文章（neko.txt）をCaboChaを使って係り受け解析し，その結果をneko.txt.cabochaというファイルに保存せよ．このファイルを用いて，以下の問に対応するプログラムを実装せよ．"
   ]
  },
  {
   "cell_type": "code",
   "execution_count": 94,
   "metadata": {
    "collapsed": false
   },
   "outputs": [
    {
     "name": "stdout",
     "output_type": "stream",
     "text": [
      "* 0 -1D 0/0 0.000000\r\n",
      "一\t名詞,数,*,*,*,*,一,イチ,イチ\r\n",
      "EOS\r\n",
      "EOS\r\n",
      "* 0 2D 0/0 -0.764522\r\n",
      "　\t記号,空白,*,*,*,*,　,　,　\r\n",
      "* 1 2D 0/1 -0.764522\r\n",
      "吾輩\t名詞,代名詞,一般,*,*,*,吾輩,ワガハイ,ワガハイ\r\n",
      "は\t助詞,係助詞,*,*,*,*,は,ハ,ワ\r\n",
      "* 2 -1D 0/2 0.000000\r\n",
      "猫\t名詞,一般,*,*,*,*,猫,ネコ,ネコ\r\n",
      "で\t助動詞,*,*,*,特殊・ダ,連用形,だ,デ,デ\r\n",
      "ある\t助動詞,*,*,*,五段・ラ行アル,基本形,ある,アル,アル\r\n",
      "。\t記号,句点,*,*,*,*,。,。,。\r\n",
      "EOS\r\n",
      "* 0 2D 0/1 -1.911675\r\n",
      "名前\t名詞,一般,*,*,*,*,名前,ナマエ,ナマエ\r\n",
      "は\t助詞,係助詞,*,*,*,*,は,ハ,ワ\r\n",
      "* 1 2D 0/0 -1.911675\r\n",
      "まだ\t副詞,助詞類接続,*,*,*,*,まだ,マダ,マダ\r\n",
      "* 2 -1D 0/0 0.000000\r\n",
      "無い\t形容詞,自立,*,*,形容詞・アウオ段,基本形,無い,ナイ,ナイ\r\n",
      "。\t記号,句点,*,*,*,*,。,。,。\r\n",
      "EOS\r\n",
      "EOS\r\n"
     ]
    }
   ],
   "source": [
    "!head -25 neko.txt.cabocha"
   ]
  },
  {
   "cell_type": "markdown",
   "metadata": {},
   "source": [
    "\n",
    "## 40. 係り受け解析結果の読み込み（形態素）\n",
    "形態素を表すクラス`Morph`を実装せよ．このクラスは表層形（`surface`），基本形（`base`），品詞（`pos`），品詞細分類1（`pos1`）をメンバ変数に持つこととする．さらに，CaboChaの解析結果（neko.txt.cabocha）を読み込み，各文を`Morph`オブジェクトのリストとして表現し，3文目の形態素列を表示せよ．"
   ]
  },
  {
   "cell_type": "code",
   "execution_count": 6,
   "metadata": {
    "collapsed": false
   },
   "outputs": [
    {
     "name": "stdout",
     "output_type": "stream",
     "text": [
      "Overwriting q40.py\n"
     ]
    }
   ],
   "source": [
    "%%file q40.py\n",
    "from itertools import groupby\n",
    "import sys\n",
    "from string import printable\n",
    "\n",
    "class Morph:\n",
    "    \"\"\"cabocha lattice formatファイルの1行を読み込む\"\"\"\n",
    "    __slots__ = ['surface', 'pos', 'pos1', 'base']\n",
    "    exceptions = frozenset(printable)\n",
    "    # 吾輩\t名詞,代名詞,一般,*,*,*,吾輩,ワガハイ,ワガハイ\n",
    "    def __init__(self, line):\n",
    "        self.surface, temp = line.rstrip().split('\\t')\n",
    "        inf = temp.split(',')\n",
    "        self.pos = inf[0]\n",
    "        self.pos1 = inf[1]\n",
    "        # 4章同様, 半角文字の基本形問題\n",
    "        if self.surface in self.exceptions:\n",
    "            self.base = self.surface\n",
    "        else:\n",
    "            self.base = inf[6]\n",
    "    \n",
    "    \n",
    "    def __str__(self):\n",
    "        return self.surface\n",
    "    \n",
    "    def __repr__(self):\n",
    "        return 'q40.Morph({})'.format(', '.join((self.surface, self.pos, self.pos1, self.base)))\n",
    "    \n",
    "\n",
    "def main():\n",
    "    for i, sent_lis in enumerate(load_cabocha(sys.stdin), start=1):\n",
    "        if i == 3:\n",
    "            print(*sent_lis)\n",
    "            for word in sent_lis:\n",
    "                print(repr(word))\n",
    "\n",
    "            \n",
    "def load_cabocha(fi):\n",
    "    \"\"\"cabocha lattice formatファイルからMorphインスタンスを生成\"\"\"\n",
    "    for is_eos, sentence in groupby(fi, key=lambda x: x == 'EOS\\n'):\n",
    "        if not is_eos:\n",
    "            yield [Morph(line) for line in sentence if not line.startswith('* ')]\n",
    "            # startswith('*')だと表層形が「*」のときにまずい\n",
    "\n",
    "if __name__ == '__main__':\n",
    "    main()\n"
   ]
  },
  {
   "cell_type": "code",
   "execution_count": 7,
   "metadata": {
    "collapsed": false
   },
   "outputs": [
    {
     "name": "stdout",
     "output_type": "stream",
     "text": [
      "名前 は まだ 無い 。\r\n",
      "q40.Morph(名前, 名詞, 一般, 名前)\r\n",
      "q40.Morph(は, 助詞, 係助詞, は)\r\n",
      "q40.Morph(まだ, 副詞, 助詞類接続, まだ)\r\n",
      "q40.Morph(無い, 形容詞, 自立, 無い)\r\n",
      "q40.Morph(。, 記号, 句点, 。)\r\n"
     ]
    }
   ],
   "source": [
    "!python q40.py < neko.txt.cabocha"
   ]
  },
  {
   "cell_type": "code",
   "execution_count": 89,
   "metadata": {
    "collapsed": false
   },
   "outputs": [
    {
     "data": {
      "text/plain": [
       "q40.Morph(\", 名詞, サ変接続, \")"
      ]
     },
     "execution_count": 89,
     "metadata": {},
     "output_type": "execute_result"
    }
   ],
   "source": [
    "import q40\n",
    "q40.Morph('\"\t名詞,サ変接続,*,*,*,*,*')"
   ]
  },
  {
   "cell_type": "code",
   "execution_count": 90,
   "metadata": {
    "collapsed": false
   },
   "outputs": [
    {
     "data": {
      "text/plain": [
       "q40.Morph(,, 記号, 読点, ,)"
      ]
     },
     "execution_count": 90,
     "metadata": {},
     "output_type": "execute_result"
    }
   ],
   "source": [
    "q40.Morph(',\t記号,読点,*,*,*,*,\",\",\",\",\",\",,')"
   ]
  },
  {
   "cell_type": "markdown",
   "metadata": {},
   "source": [
    "## 41. 係り受け解析結果の読み込み（文節・係り受け）\n",
    "40に加えて，文節を表すクラスChunkを実装せよ．このクラスは形態素（Morphオブジェクト）のリスト（morphs），係り先文節インデックス番号（dst），係り元文節インデックス番号のリスト（srcs）をメンバ変数に持つこととする．さらに，入力テキストのCaboChaの解析結果を読み込み，１文をChunkオブジェクトのリストとして表現し，8文目の文節の文字列と係り先を表示せよ．第5章の残りの問題では，ここで作ったプログラムを活用せよ．"
   ]
  },
  {
   "cell_type": "code",
   "execution_count": 1,
   "metadata": {
    "collapsed": false
   },
   "outputs": [
    {
     "name": "stdout",
     "output_type": "stream",
     "text": [
      "Overwriting q41.py\n"
     ]
    }
   ],
   "source": [
    "%%file q41.py\n",
    "import sys\n",
    "from itertools import groupby\n",
    "\n",
    "from q40 import Morph\n",
    "\n",
    "\n",
    "class Chunk:\n",
    "    \"\"\"cabocha lattice formatファイルから分節を読み込む。q40.Morphをヘルパーとして利用。\"\"\"\n",
    "    \n",
    "    __slots__ = ['idx', 'dst', 'morphs', 'srcs']\n",
    "    # * 0 2D 0/0 -0.764522\n",
    "    def __init__(self, line):\n",
    "        info = line.rstrip().split()\n",
    "        self.idx = int(info[1])\n",
    "        self.dst = int(info[2].rstrip(\"D\"))\n",
    "        self.morphs = []\n",
    "        self.srcs = []\n",
    "    \n",
    "    def __str__(self):\n",
    "        return ''.join([morph.surface for morph in self.morphs])\n",
    "    \n",
    "    def __repr__(self):\n",
    "        return 'q41.Chunk({}, {})'.format(self.idx, self.dst)\n",
    "    \n",
    "    def srcs_append(self, src_idx):\n",
    "        \"\"\"係り元文節インデックスを追加\"\"\"\n",
    "        self.srcs.append(src_idx)\n",
    "    \n",
    "    def morphs_append(self, line):\n",
    "        \"\"\"形態素を追加\"\"\"\n",
    "        self.morphs.append(Morph(line))\n",
    "    \n",
    "    def chunk2str(self):\n",
    "        \"\"\"句読点を取り除いた文節の表層形を返す\"\"\"\n",
    "        return ''.join([morph.surface for morph in self.morphs if morph.pos != '記号'])\n",
    "    \n",
    "    def contain_pos(self, pos):\n",
    "        \"\"\"文節中にある品詞が存在するかどうかを返す\"\"\"\n",
    "        return pos in (morph.pos for morph in self.morphs)\n",
    "\n",
    "class Sentence:\n",
    "    \"\"\"cabocha lattice formatファイルから文を読み込む。Chunkクラスをヘルパーとして利用。\"\"\"\n",
    "    __slots__ = ['chunks', 'idx']\n",
    "    \n",
    "    def __init__(self, sent_lines):\n",
    "        self.chunks = []\n",
    "        ch_append = self.chunks.append\n",
    "        for line in sent_lines:                    \n",
    "            if line.startswith('* '):\n",
    "                ch_append(Chunk(line))\n",
    "            else:\n",
    "                self.chunks[-1].morphs_append(line)\n",
    "        \n",
    "        for chunk in self.chunks:\n",
    "            if chunk.dst != -1:\n",
    "                self.chunks[chunk.dst].srcs_append(chunk.idx)\n",
    "    \n",
    "    def __str__(self):\n",
    "        return ' '.join([morph.surface for chunk in self.chunks for morph in chunk.morphs])\n",
    "    \n",
    "    def print_dep_idx(self):\n",
    "        \"\"\"係り元文節インデックスと係り先文節インデックスを表示\"\"\"\n",
    "        for chunk in self.chunks:\n",
    "            print('{}:{} => {}'.format(chunk.idx, chunk, chunk.dst))\n",
    "    \n",
    "    def print_dep(self):\n",
    "        \"\"\"係り元文節と係り先文節の表層をタブ区切りで表示\"\"\"\n",
    "        for chunk in self.chunks:\n",
    "            print('{}\\t{}'.format(chunk.chunk2str(), self.chunks[chunk.dst].chunk2str()))\n",
    "            \n",
    "    def print_noun_verb_dep(self):\n",
    "        \"\"\"名詞を含む文節が動詞を含む文節に係るものを抽出\"\"\"\n",
    "        for chunk in self.chunks:\n",
    "            if chunk.contain_pos('名詞') and self.chunks[chunk.dst].contain_pos('動詞'):\n",
    "                print('{}\\t{}'.format(chunk.chunk2str(), self.chunks[chunk.dst].chunk2str()))\n",
    "            \n",
    "\n",
    "\n",
    "def main():\n",
    "    for i, sent in enumerate(cabocha2sentences(sys.stdin), start=1):\n",
    "        if i == 8:\n",
    "            sent.print_dep_idx()\n",
    "\n",
    "def cabocha2sentences(fi):\n",
    "    \"\"\"cabocha lattice formatファイルからSentenceインスタンスを生成\"\"\"\n",
    "    for is_eos, sentence in groupby(fi, key=lambda x: x == 'EOS\\n'):\n",
    "        if not is_eos:\n",
    "            yield (Sentence(sentence))\n",
    "\n",
    "\n",
    "if __name__ == '__main__':\n",
    "    main()\n"
   ]
  },
  {
   "cell_type": "code",
   "execution_count": 8,
   "metadata": {
    "collapsed": false
   },
   "outputs": [
    {
     "name": "stdout",
     "output_type": "stream",
     "text": [
      "0:この => 1\r\n",
      "1:書生というのは => 7\r\n",
      "2:時々 => 4\r\n",
      "3:我々を => 4\r\n",
      "4:捕えて => 5\r\n",
      "5:煮て => 6\r\n",
      "6:食うという => 7\r\n",
      "7:話である。 => -1\r\n"
     ]
    }
   ],
   "source": [
    "!python q41.py < neko.txt.cabocha"
   ]
  },
  {
   "cell_type": "markdown",
   "metadata": {
    "collapsed": true
   },
   "source": [
    "## 42. 係り元と係り先の文節の表示\n",
    "係り元の文節と係り先の文節のテキストをタブ区切り形式ですべて抽出せよ．ただし，句読点などの記号は出力しないようにせよ．"
   ]
  },
  {
   "cell_type": "code",
   "execution_count": 5,
   "metadata": {
    "collapsed": false
   },
   "outputs": [
    {
     "name": "stdout",
     "output_type": "stream",
     "text": [
      "Overwriting q42.py\n"
     ]
    }
   ],
   "source": [
    "%%file q42.py\n",
    "import sys\n",
    "\n",
    "\n",
    "from q41 import Sentence, cabocha2sentences\n",
    "\n",
    "def main():\n",
    "    for i, sent in enumerate(cabocha2sentences(sys.stdin), start=1):\n",
    "        if i < 5:\n",
    "            sent.print_dep()\n",
    "        else:\n",
    "            break\n",
    "\n",
    "if __name__ == '__main__':\n",
    "    main()\n"
   ]
  },
  {
   "cell_type": "code",
   "execution_count": 6,
   "metadata": {
    "collapsed": false,
    "scrolled": true
   },
   "outputs": [
    {
     "name": "stdout",
     "output_type": "stream",
     "text": [
      "一\t一\r\n",
      "\t猫である\r\n",
      "吾輩は\t猫である\r\n",
      "猫である\t猫である\r\n",
      "名前は\t無い\r\n",
      "まだ\t無い\r\n",
      "無い\t無い\r\n",
      "どこで\t生れたか\r\n",
      "生れたか\tつかぬ\r\n",
      "とんと\tつかぬ\r\n",
      "見当が\tつかぬ\r\n",
      "つかぬ\tつかぬ\r\n"
     ]
    }
   ],
   "source": [
    "!python q42.py < neko.txt.cabocha"
   ]
  },
  {
   "cell_type": "markdown",
   "metadata": {},
   "source": [
    "## 43. 名詞を含む文節が動詞を含む文節に係るものを抽出\n",
    "名詞を含む文節が，動詞を含む文節に係るとき，これらをタブ区切り形式で抽出せよ．ただし，句読点などの記号は出力しないようにせよ．"
   ]
  },
  {
   "cell_type": "code",
   "execution_count": 7,
   "metadata": {
    "collapsed": false
   },
   "outputs": [
    {
     "name": "stdout",
     "output_type": "stream",
     "text": [
      "Overwriting q43.py\n"
     ]
    }
   ],
   "source": [
    "%%file q43.py\n",
    "import sys\n",
    "\n",
    "\n",
    "from q41 import Sentence, cabocha2sentences\n",
    "\n",
    "def main():\n",
    "    for i, sent in enumerate(cabocha2sentences(sys.stdin), start=1):\n",
    "        if i < 10:\n",
    "            sent.print_noun_verb_dep()\n",
    "        else:\n",
    "            break\n",
    "\n",
    "if __name__ == '__main__':\n",
    "    main()"
   ]
  },
  {
   "cell_type": "code",
   "execution_count": 8,
   "metadata": {
    "collapsed": false,
    "scrolled": true
   },
   "outputs": [
    {
     "name": "stdout",
     "output_type": "stream",
     "text": [
      "どこで\t生れたか\r\n",
      "見当が\tつかぬ\r\n",
      "所で\t泣いて\r\n",
      "ニャーニャー\t泣いて\r\n",
      "いた事だけは\t記憶している\r\n",
      "記憶している\t記憶している\r\n",
      "吾輩は\t見た\r\n",
      "ここで\t始めて\r\n",
      "ものを\t見た\r\n",
      "あとで\t聞くと\r\n",
      "我々を\t捕えて\r\n"
     ]
    }
   ],
   "source": [
    "!python q43.py < neko.txt.cabocha"
   ]
  },
  {
   "cell_type": "code",
   "execution_count": null,
   "metadata": {
    "collapsed": true
   },
   "outputs": [],
   "source": [
    "%%timeit\n",
    "'printable"
   ]
  }
 ],
 "metadata": {
  "anaconda-cloud": {},
  "kernelspec": {
   "display_name": "Python [default]",
   "language": "python",
   "name": "python3"
  },
  "language_info": {
   "codemirror_mode": {
    "name": "ipython",
    "version": 3
   },
   "file_extension": ".py",
   "mimetype": "text/x-python",
   "name": "python",
   "nbconvert_exporter": "python",
   "pygments_lexer": "ipython3",
   "version": "3.5.2"
  }
 },
 "nbformat": 4,
 "nbformat_minor": 2
}
